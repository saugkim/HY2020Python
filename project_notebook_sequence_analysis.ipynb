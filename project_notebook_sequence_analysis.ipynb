{
 "cells": [
  {
   "cell_type": "markdown",
   "metadata": {},
   "source": [
    "# Sequence Analysis with Python\n",
    "\n",
    "Contact: Veli Mäkinen veli.makinen@helsinki.fi"
   ]
  },
  {
   "cell_type": "markdown",
   "metadata": {},
   "source": [
    "The following assignments introduce applications of hashing with ```dict()``` primitive of Python. While doing so, a rudimentary introduction to biological sequences is given. \n",
    "This framework is then enhanced with probabilities, leading to routines to generate random sequences under some constraints, including a general concept of *Markov-chains*. All these components illustrate the usage of ```dict()```, but at the same time introduce some other computational routines to efficiently deal with probabilities.   \n",
    "The function ```collections.defaultdict``` can be useful.\n",
    "\n",
    "Below are some \"suggested\" imports. Feel free to use and modify these, or not. Generally it's good practice to keep most or all imports in one place. Typically very close to the start of notebooks."
   ]
  },
  {
   "cell_type": "code",
   "execution_count": 192,
   "metadata": {
    "ExecuteTime": {
     "end_time": "2019-07-08T22:04:22.831112Z",
     "start_time": "2019-07-08T22:04:22.688031Z"
    }
   },
   "outputs": [],
   "source": [
    "from collections import defaultdict\n",
    "from itertools import product\n",
    "\n",
    "import numpy as np\n",
    "from numpy.random import choice"
   ]
  },
  {
   "cell_type": "code",
   "execution_count": 1,
   "metadata": {},
   "outputs": [],
   "source": [
    "def set_global_variable():\n",
    "    import urllib\n",
    "    import urllib.request\n",
    "    from bs4 import BeautifulSoup\n",
    "    url = 'http://www.kazusa.or.jp/codon/cgi-bin/showcodon.cgi?species=9606&aa=1&style=N'\n",
    "    try:\n",
    "        fp = urllib.request.urlopen(url)\n",
    "    except IOError:\n",
    "        print (\"error when open url...\")\n",
    "\n",
    "    mybytes = fp.read()\n",
    "    mystr = mybytes.decode(\"utf8\")\n",
    "    fp.close()\n",
    "\n",
    "    soup = BeautifulSoup(mystr, 'html.parser')\n",
    "    content = soup.find_all('pre')[-1]\n",
    "    content = content.text.strip().replace('\\n','')\n",
    "    return content\n",
    "    \n",
    "global codon_usage_table_text\n",
    "#codon_usage_table_text = set_global_variable()\n",
    "codon_usage_table_text = 'UUU F 0.46 17.6 (714298)  UCU S 0.19 15.2 (618711)  UAU Y 0.44 12.2 (495699)  UGU C 0.46 10.6 (430311)UUC F 0.54 20.3 (824692)  UCC S 0.22 17.7 (718892)  UAC Y 0.56 15.3 (622407)  UGC C 0.54 12.6 (513028)UUA L 0.08  7.7 (311881)  UCA S 0.15 12.2 (496448)  UAA * 0.30  1.0 ( 40285)  UGA * 0.47  1.6 ( 63237)UUG L 0.13 12.9 (525688)  UCG S 0.05  4.4 (179419)  UAG * 0.24  0.8 ( 32109)  UGG W 1.00 13.2 (535595)CUU L 0.13 13.2 (536515)  CCU P 0.29 17.5 (713233)  CAU H 0.42 10.9 (441711)  CGU R 0.08  4.5 (184609)CUC L 0.20 19.6 (796638)  CCC P 0.32 19.8 (804620)  CAC H 0.58 15.1 (613713)  CGC R 0.18 10.4 (423516)CUA L 0.07  7.2 (290751)  CCA P 0.28 16.9 (688038)  CAA Q 0.27 12.3 (501911)  CGA R 0.11  6.2 (250760)CUG L 0.40 39.6 (1611801)  CCG P 0.11  6.9 (281570)  CAG Q 0.73 34.2 (1391973)  CGG R 0.20 11.4 (464485)AUU I 0.36 16.0 (650473)  ACU T 0.25 13.1 (533609)  AAU N 0.47 17.0 (689701)  AGU S 0.15 12.1 (493429)AUC I 0.47 20.8 (846466)  ACC T 0.36 18.9 (768147)  AAC N 0.53 19.1 (776603)  AGC S 0.24 19.5 (791383)AUA I 0.17  7.5 (304565)  ACA T 0.28 15.1 (614523)  AAA K 0.43 24.4 (993621)  AGA R 0.21 12.2 (494682)AUG M 1.00 22.0 (896005)  ACG T 0.11  6.1 (246105)  AAG K 0.57 31.9 (1295568)  AGG R 0.21 12.0 (486463)GUU V 0.18 11.0 (448607)  GCU A 0.27 18.4 (750096)  GAU D 0.46 21.8 (885429)  GGU G 0.16 10.8 (437126)GUC V 0.24 14.5 (588138)  GCC A 0.40 27.7 (1127679)  GAC D 0.54 25.1 (1020595)  GGC G 0.34 22.2 (903565)GUA V 0.12  7.1 (287712)  GCA A 0.23 15.8 (643471)  GAA E 0.42 29.0 (1177632)  GGA G 0.25 16.5 (669873)GUG V 0.46 28.1 (1143534)  GCG A 0.11  7.4 (299495)  GAG E 0.58 39.6 (1609975)  GGG G 0.25 16.5 (669768)'"
   ]
  },
  {
   "cell_type": "markdown",
   "metadata": {},
   "source": [
    "The automated TMC tests do not test cell outputs. These are intended to be evaluated in the peer reviews. So it is still be a good idea to make the outputs as clear and informative as possible.\n",
    "\n",
    "To keep TMC tests running as well as possible it is recommended to keep global variable assignments in the notebook to a minimum to avoid potential name clashes and confusion. Additionally you should keep all actual code exection in main guards to keep the test running smoothly. If you run [check_sequence.py](https://raw.githubusercontent.com/saskeli/data-analysis-with-python-summer-2019/master/check_outputs.py) in the `part07-e01_sequence_analysis` folder, the script should finish very quickly and optimally produce no output.\n",
    "\n",
    "If you download data from the internet during execution (codon usage table), the parts where downloading is done should not work if you decide to submit to the tmc server. Local tests should work fine."
   ]
  },
  {
   "cell_type": "markdown",
   "metadata": {},
   "source": [
    "## DNA and RNA\n",
    "\n",
    "A DNA molecule consist, in principle, of a chain of smaller molecules. These smaller molecules have some common basic components (bases) that repeat. For our purposes it is sufficient to know that these bases are nucleotides adenine, cytosine, guanine, and thymine with abbreviations ```A```, ```C```, ```G```, and ```T```. Given a *DNA sequence* e.g. ```ACGATGAGGCTCAT```, one can reverse engineer (with negligible loss of information) the corresponding DNA molecule.\n",
    "\n",
    "Parts of a DNA molecule can *transcribe* into an RNA molecule. In this process, thymine gets replaced by uracil (```U```). \n",
    "\n",
    "\n",
    "1. Write a function ```dna_to_rna``` to convert a given DNA sequence $s$ into an RNA sequence. For the sake of exercise, use ```dict()``` to store the symbol to symbol encoding rules. Create a program to test your function."
   ]
  },
  {
   "cell_type": "code",
   "execution_count": 293,
   "metadata": {
    "ExecuteTime": {
     "end_time": "2019-07-08T22:04:22.841952Z",
     "start_time": "2019-07-08T22:04:22.834721Z"
    }
   },
   "outputs": [
    {
     "name": "stdout",
     "output_type": "stream",
     "text": [
      "AACGUGAUUUC\n"
     ]
    }
   ],
   "source": [
    "def dna_to_rna(s):\n",
    "    d = {'T':'U', 'A':'A', 'C':'C','G':'G'}\n",
    "    return \"\".join(d[x] for x in s)\n",
    "\n",
    "if __name__ == '__main__':\n",
    "    print(dna_to_rna(\"AACGTGATTTC\")) "
   ]
  },
  {
   "cell_type": "markdown",
   "metadata": {},
   "source": [
    "### Idea of solution\n",
    "\n",
    "switch the value using dictionary key value pairs, <br>\n",
    "if character in the sequence is T(key), then get U(value) from the dictionary (d['T'] = 'U')"
   ]
  },
  {
   "cell_type": "markdown",
   "metadata": {},
   "source": [
    "### Discussion\n",
    "\n",
    "It works."
   ]
  },
  {
   "cell_type": "markdown",
   "metadata": {},
   "source": [
    "## Proteins\n",
    "\n",
    "Like DNA and RNA, protein molecule can be interpreted as a chain of smaller molecules, where the bases are now amino acids. RNA molecule may *translate* into a protein molecule, but instead of base by base, three bases of RNA correspond to one base of protein. That is, RNA sequence is read triplet (called codon) at a time. \n",
    "\n",
    "2. Consider the codon to amino acid conversion table in http://htmlpreview.github.io/?https://github.com/csmastersUH/data_analysis_with_python_2020/blob/master/Codon%20usage%20table.html. Write a function ```get_dict``` to read the table into a ```dict()```, such that for each RNA sequence of length 3, say $\\texttt{AGU}$, the hash table stores the conversion rule to the corresponding amino acid. You may store the html page to your local src directory,\n",
    "and parse that file."
   ]
  },
  {
   "cell_type": "code",
   "execution_count": 295,
   "metadata": {
    "ExecuteTime": {
     "end_time": "2019-07-08T22:04:22.867855Z",
     "start_time": "2019-07-08T22:04:22.845885Z"
    }
   },
   "outputs": [
    {
     "name": "stdout",
     "output_type": "stream",
     "text": [
      "{'UUU': 'F', 'UCU': 'S', 'UAU': 'Y', 'UGU': 'C', 'UUC': 'F', 'UCC': 'S', 'UAC': 'Y', 'UGC': 'C', 'UUA': 'L', 'UCA': 'S', 'UAA': '*', 'UGA': '*', 'UUG': 'L', 'UCG': 'S', 'UAG': '*', 'UGG': 'W', 'CUU': 'L', 'CCU': 'P', 'CAU': 'H', 'CGU': 'R', 'CUC': 'L', 'CCC': 'P', 'CAC': 'H', 'CGC': 'R', 'CUA': 'L', 'CCA': 'P', 'CAA': 'Q', 'CGA': 'R', 'CUG': 'L', 'CCG': 'P', 'CAG': 'Q', 'CGG': 'R', 'AUU': 'I', 'ACU': 'T', 'AAU': 'N', 'AGU': 'S', 'AUC': 'I', 'ACC': 'T', 'AAC': 'N', 'AGC': 'S', 'AUA': 'I', 'ACA': 'T', 'AAA': 'K', 'AGA': 'R', 'AUG': 'M', 'ACG': 'T', 'AAG': 'K', 'AGG': 'R', 'GUU': 'V', 'GCU': 'A', 'GAU': 'D', 'GGU': 'G', 'GUC': 'V', 'GCC': 'A', 'GAC': 'D', 'GGC': 'G', 'GUA': 'V', 'GCA': 'A', 'GAA': 'E', 'GGA': 'G', 'GUG': 'V', 'GCG': 'A', 'GAG': 'E', 'GGG': 'G'}\n"
     ]
    }
   ],
   "source": [
    "def get_dict():\n",
    "    d = {}\n",
    "    x = codon_usage_table_text.split(')')\n",
    "    for i in range(len(x)-1):\n",
    "        d[x[i].strip()[:3]] = x[i].strip()[4:5]\n",
    "        \n",
    "    return d\n",
    "    \n",
    "if __name__ == '__main__':\n",
    "    codon_to_aa = get_dict()\n",
    "    print(codon_to_aa)"
   ]
  },
  {
   "cell_type": "markdown",
   "metadata": {},
   "source": [
    "### Idea of solution"
   ]
  },
  {
   "cell_type": "raw",
   "metadata": {},
   "source": [
    "0. Using BeautifulSoup library, parse html, codon core data is inside of the tag of <pre> </pre>\n",
    "1. get text (string) between pre and /pre\n",
    "2. remove line changing \\n to empty\n",
    "This part is done in the set_global_variable() functions, on top of the notebook.\n",
    "the function returns text (string data type) between <pre> and </pre> of html page. \n",
    "\n",
    "And then \n",
    "3. split text with ')', result of each element (after split) looks like => 'UUU F 0.46 17.6 (714298'\n",
    "fields: [triplet] [amino acid] [fraction] [frequency: per thousand] ([number])\n",
    "    UUU F 0.46 17.6 (714298  -> splitted string \n",
    "    0123456789012345         -> index\n",
    "\n",
    "4. index 0,1,2 =[:3] is RNA triplet and index 4 =[4:5] is amino acid, get triplet(key) and amino acid(value) pair and save to dictionary.\n",
    "5. return dictionary"
   ]
  },
  {
   "cell_type": "markdown",
   "metadata": {},
   "source": [
    "### Discussion\n",
    "\n",
    "I got the dictionary(triplet and amino acid as key- value pair)"
   ]
  },
  {
   "cell_type": "markdown",
   "metadata": {},
   "source": [
    "3. Use the same conversion table as above, but now write function `get_dict_list` to read the table into a `dict()`, such that for each amino acid the hash table stores the list of codons encoding it.    "
   ]
  },
  {
   "cell_type": "code",
   "execution_count": 296,
   "metadata": {},
   "outputs": [
    {
     "name": "stdout",
     "output_type": "stream",
     "text": [
      "{'F': ['UUU', 'UUC'], 'S': ['UCU', 'UCC', 'UCA', 'UCG', 'AGU', 'AGC'], 'Y': ['UAU', 'UAC'], 'C': ['UGU', 'UGC'], 'L': ['UUA', 'UUG', 'CUU', 'CUC', 'CUA', 'CUG'], '*': ['UAA', 'UGA', 'UAG'], 'W': ['UGG'], 'P': ['CCU', 'CCC', 'CCA', 'CCG'], 'H': ['CAU', 'CAC'], 'R': ['CGU', 'CGC', 'CGA', 'CGG', 'AGA', 'AGG'], 'Q': ['CAA', 'CAG'], 'I': ['AUU', 'AUC', 'AUA'], 'T': ['ACU', 'ACC', 'ACA', 'ACG'], 'N': ['AAU', 'AAC'], 'K': ['AAA', 'AAG'], 'M': ['AUG'], 'V': ['GUU', 'GUC', 'GUA', 'GUG'], 'A': ['GCU', 'GCC', 'GCA', 'GCG'], 'D': ['GAU', 'GAC'], 'G': ['GGU', 'GGC', 'GGA', 'GGG'], 'E': ['GAA', 'GAG']}\n"
     ]
    }
   ],
   "source": [
    "def get_dict_list():\n",
    "    from collections import defaultdict\n",
    "    dx = get_dict()\n",
    "    d = defaultdict(list)\n",
    "    for k, v in dx.items():\n",
    "        d[v].append(k)\n",
    "    \n",
    "    return dict(d)\n",
    "    \n",
    "if __name__ == '__main__':\n",
    "    aa_to_codons = get_dict_list()\n",
    "    print(aa_to_codons)"
   ]
  },
  {
   "cell_type": "markdown",
   "metadata": {},
   "source": [
    "### Idea of solution\n",
    "\n",
    "This is opposite of the triplet and amino acid pair, result should be amino acid as key and triplet is value. problem is each of triplet has own amino acid, each amino acid can have multiple triplet as a pair. I need to make dictionary value type as list (to have multiple values) <br>\n",
    "defaultdict method can solve this very easily, \n",
    "first get dictionary from get_dict() function<br>\n",
    "set dictionary value as key, and add possible keys as values. "
   ]
  },
  {
   "cell_type": "markdown",
   "metadata": {},
   "source": [
    "### Discussion\n",
    "\n",
    "With help of defaultdict, problem solved."
   ]
  },
  {
   "cell_type": "markdown",
   "metadata": {},
   "source": [
    "With the conversion tables at hand, the following should be trivial to solve.\n",
    "\n",
    "4. Fill in function ```rna_to_prot``` in the stub solution to convert a given DNA sequence $s$ into a protein sequence. \n",
    "You may use the dictionaries from exercises 2 and 3. You can test your program with `ATGATATCATCGACGATGTAG`."
   ]
  },
  {
   "cell_type": "code",
   "execution_count": 299,
   "metadata": {
    "ExecuteTime": {
     "end_time": "2019-07-08T22:04:22.913321Z",
     "start_time": "2019-07-08T22:04:22.906646Z"
    }
   },
   "outputs": [
    {
     "name": "stdout",
     "output_type": "stream",
     "text": [
      "MISSTM*G\n"
     ]
    }
   ],
   "source": [
    "def rna_to_prot(s):\n",
    "    \n",
    "    d = get_dict()\n",
    "    protein_seq =\"\" \n",
    "    if len(s) % 3 == 0: \n",
    "        for i in range(0, len(s), 3): \n",
    "            triplet = s[i:i + 3] \n",
    "            protein_seq += d[triplet]\n",
    "    elif len(s) % 3 == 1: \n",
    "        for i in range(0, len(s)-1, 3): \n",
    "            triplet = s[i:i + 3] \n",
    "            protein_seq += d[triplet]\n",
    "    elif len(s) % 3 == 2: \n",
    "        for i in range(0, len(s)-2, 3): \n",
    "            triplet = s[i:i + 3] \n",
    "            protein_seq += d[triplet]\n",
    "            \n",
    "    return protein_seq\n",
    "\n",
    "def dna_to_prot(s):\n",
    "    return rna_to_prot(dna_to_rna(s))\n",
    "\n",
    "if __name__ == '__main__':\n",
    "    print(dna_to_prot(\"ATGATATCATCGACGATGTAGGGG\"))\n"
   ]
  },
  {
   "cell_type": "markdown",
   "metadata": {},
   "source": [
    "### Idea of solution\n",
    "\n",
    "Input value is DNA sequence, so transform to RNA, using dna_to_rna() function.<Br>\n",
    "then string of rna sequence is divied to RNA triplets.<br>\n",
    "    then each rna has pair of amino acid, using get_dict() return triplet amino acid pair.<Br>\n",
    "    index slicing as 3(i:i+3), iterating every 3 to get triplet string from RNA sequence.<br>\n",
    "    get amino acid from triplet key, concatenate it every iteration\n",
    "    \n",
    "    ATGATATCATCGACGATGTAG -> DNA sequence\n",
    "    AUGAUAUCAUCGACGAUGUAG -> RNA sequence\n",
    "    AUG AUA UCA UCG ACG AUG UAG ->split as RNA triplet\n",
    "    M   I   S   S   T   M   *   ->amino acid pair\n",
    "    MISSTM*                     ->concatenate"
   ]
  },
  {
   "cell_type": "markdown",
   "metadata": {},
   "source": [
    "### Discussion\n",
    "\n",
    "Step by step "
   ]
  },
  {
   "cell_type": "markdown",
   "metadata": {},
   "source": [
    "You may notice that there are $4^3=64$ different codons, but only 20 amino acids. That is, some triplets encode the same amino acid.  "
   ]
  },
  {
   "cell_type": "markdown",
   "metadata": {},
   "source": [
    "## Reverse translation\n",
    "\n",
    "It has been observed that among the codons coding the same amino acid, some are more frequent than others. These frequencies can be converted to probabilities. E.g. consider codons `AUU`, `AUC`, and `AUA` that code for amino acid isoleucine.\n",
    "If they are observed, say, 36, 47, 17 times, respectively, to code isoleucine in a dataset, the probability that a random such event is `AUU` $\\to$ isoleucine is 36/100.\n",
    "\n",
    "This phenomenon is called *codon adaptation*, and for our purposes it works as a good introduction to generation of random sequences under constraints.   \n",
    "\n",
    "5. Consider the codon adaptation frequencies in http://htmlpreview.github.io/?https://github.com/csmastersUH/data_analysis_with_python_2020/blob/master/Codon%20usage%20table.html and read them into a ```dict()```, such that for each RNA sequence of length 3, say `AGU`, the hash table stores the probability of that codon among codons encoding the same amino acid.\n",
    "Put your solution in the ```get_probabability_dict``` function."
   ]
  },
  {
   "cell_type": "code",
   "execution_count": 269,
   "metadata": {
    "ExecuteTime": {
     "end_time": "2019-07-08T22:04:22.966173Z",
     "start_time": "2019-07-08T22:04:22.956013Z"
    }
   },
   "outputs": [
    {
     "name": "stdout",
     "output_type": "stream",
     "text": [
      "AAA: 0.434049\tAAC: 0.529633\tAAG: 0.565951\tAAU: 0.470367\tACA: 0.284188\tACC: 0.355232\n",
      "ACG: 0.113812\tACU: 0.246769\tAGA: 0.214658\tAGC: 0.239938\tAGG: 0.211091\tAGU: 0.149602\n",
      "AUA: 0.169062\tAUC: 0.469866\tAUG: 1.000000\tAUU: 0.361072\tCAA: 0.265017\tCAC: 0.581485\n",
      "CAG: 0.734983\tCAU: 0.418515\tCCA: 0.276603\tCCC: 0.323470\tCCG: 0.113196\tCCU: 0.286731\n",
      "CGA: 0.108812\tCGC: 0.183777\tCGG: 0.201554\tCGU: 0.080108\tCUA: 0.071380\tCUC: 0.195577\n",
      "CUG: 0.395702\tCUU: 0.131716\tGAA: 0.422453\tGAC: 0.535458\tGAG: 0.577547\tGAU: 0.464542\n",
      "GCA: 0.228121\tGCC: 0.399781\tGCG: 0.106176\tGCU: 0.265922\tGGA: 0.249922\tGGC: 0.337109\n",
      "GGG: 0.249882\tGGU: 0.163087\tGUA: 0.116577\tGUC: 0.238306\tGUG: 0.463346\tGUU: 0.181770\n",
      "UAA: 0.297019\tUAC: 0.556662\tUAG: 0.236738\tUAU: 0.443338\tUCA: 0.150517\tUCC: 0.217960\n",
      "UCG: 0.054398\tUCU: 0.187586\tUGA: 0.466243\tUGC: 0.543843\tUGG: 1.000000\tUGU: 0.456157\n",
      "UUA: 0.076568\tUUC: 0.535866\tUUG: 0.129058\tUUU: 0.464134\n"
     ]
    }
   ],
   "source": [
    "def get_probabability_dict():\n",
    "    d = defaultdict(list)\n",
    "    x = codon_usage_table_text.split(')')\n",
    "    for i in range(len(x)-1):\n",
    "        d[x[i].strip()[4:5]].append( (x[i].strip()[:3], float(x[i].strip()[17:])) )\n",
    "    d = dict(d)\n",
    "    dfinal = {}\n",
    "    for i in d:\n",
    "        summa = 0\n",
    "        for key, value in d[i]:\n",
    "            summa += value\n",
    "        for key, value in d[i]:\n",
    "            dfinal[key] = value / summa\n",
    "    return dfinal\n",
    "    \n",
    "   # fraction = {}\n",
    "   # x = codon_usage_table_text.split(')')\n",
    "   # for i in range(len(x)-1):\n",
    "   #     fraction[x[i].strip()[:3]] = float(x[i].strip()[6:10])\n",
    "    \n",
    "if __name__ == '__main__':\n",
    "    codon_to_prob = get_probabability_dict()\n",
    "    items = sorted(codon_to_prob.items(), key=lambda x: x[0])\n",
    "    for i in range(1 + len(items)//6):\n",
    "        print(\"\\t\".join(\n",
    "            f\"{k}: {v:.6f}\"\n",
    "            for k, v in items[i*6:6+i*6]\n",
    "        ))"
   ]
  },
  {
   "cell_type": "markdown",
   "metadata": {},
   "source": [
    "### Idea of solution"
   ]
  },
  {
   "cell_type": "raw",
   "metadata": {},
   "source": [
    "get codon ussage table.\n",
    "split stiring to get lest.\n",
    "fields: [triplet] [amino acid] [fraction] [frequency: per thousand] ([number])\n",
    "    UUU F 0.46 17.6 (714298  -> string \n",
    "    012345678901234567       -> index\n",
    "get aminoacid index of [4] as a key, triplet index [:3] and number [17:] as value(tuple), save to dictionary. looks like { F : [(UUU, 714298), (UUC, XXXXXX)], .... }\n",
    "\n",
    "then get fraction of each triplet in amino acid. \n",
    "add triplet as key and fraction as value to the new dictionary (dfinal).\n",
    "return dfinal.\n",
    "\n",
    "but, the codon usage table has already this as [fraction], can be obtained easily.\n",
    "fields: [triplet] [amino acid] [fraction] [frequency: per thousand] ([number])\n",
    "    UUU F 0.46 17.6 (714298  -> string \n",
    "    012345678901234567       -> index\n",
    "we need fraction part of the codon usage table. \n",
    "third column is [fraction], index of fraction part is 6,7,8,9 -> 0.46 \n",
    "\n",
    "each amino acid has one or multiple RNA triplet as pair, \n",
    "fraction is probability of that particular triplet(UUU) of its amino acid F.\n",
    "from the result of get_dict_list(), F has two RNA triplets ['UUU', 'UUC'] \n",
    "fractions are UUC: 0.540000,   UUU: 0.460000 -> 0.54 + 0.46 = 1\n",
    "amino acid F can be UUC(54%) or UUU(46%)."
   ]
  },
  {
   "cell_type": "markdown",
   "metadata": {},
   "source": [
    "### Discussion\n",
    "\n",
    "I noticed that i must calculate this.. . until i tested in tmc. "
   ]
  },
  {
   "cell_type": "markdown",
   "metadata": {},
   "source": [
    "Now you should have everything in place to easily solve the following.\n",
    "\n",
    "\n",
    "6. Write a class ```ProteinToMaxRNA``` with a ```convert``` method which converts a protein sequence into the most likely RNA sequence to be the source of this protein. Run your program with `LTPIQNRA`."
   ]
  },
  {
   "cell_type": "code",
   "execution_count": 300,
   "metadata": {
    "ExecuteTime": {
     "end_time": "2019-07-08T22:04:23.000743Z",
     "start_time": "2019-07-08T22:04:22.992108Z"
    }
   },
   "outputs": [
    {
     "name": "stdout",
     "output_type": "stream",
     "text": [
      "CUGACCCCCAUCCAGAACAGAGCC\n"
     ]
    }
   ],
   "source": [
    "class ProteinToMaxRNA:\n",
    "    \n",
    "    def __init__(self):\n",
    "        pass\n",
    "\n",
    "    def convert(self, s):\n",
    "        d = get_dict_list()\n",
    "        codon_to_prob = get_probabability_dict()\n",
    "        rna = \"\"\n",
    "        for aminoacid in s:\n",
    "            templist = []\n",
    "            for item in d[aminoacid]:\n",
    "                templist.append(codon_to_prob[item])\n",
    "                \n",
    "            max_value = max(templist)\n",
    "            max_index = templist.index(max_value)\n",
    "            \n",
    "            rna += d[aminoacid][max_index]\n",
    "        return rna\n",
    "\n",
    "if __name__ == '__main__':\n",
    "    protein_to_rna = ProteinToMaxRNA()\n",
    "    print(protein_to_rna.convert(\"LTPIQNRA\")) "
   ]
  },
  {
   "cell_type": "markdown",
   "metadata": {},
   "source": [
    "### Idea of solution\n",
    "\n",
    "fill in "
   ]
  },
  {
   "cell_type": "markdown",
   "metadata": {},
   "source": [
    "### Discussion\n",
    "\n",
    "fill in "
   ]
  },
  {
   "cell_type": "raw",
   "metadata": {},
   "source": [
    "collection of dictionary \n",
    "\n",
    "get_dict()\n",
    "{'UUU': 'F', 'UCU': 'S', 'UAU': 'Y', 'UGU': 'C', 'UUC': 'F', 'UCC': 'S', 'UAC': 'Y', 'UGC': 'C', 'UUA': 'L', 'UCA': 'S', 'UAA': '*', 'UGA': '*', 'UUG': 'L', 'UCG': 'S', 'UAG': '*', 'UGG': 'W', 'CUU': 'L', 'CCU': 'P', 'CAU': 'H', 'CGU': 'R', 'CUC': 'L', 'CCC': 'P', 'CAC': 'H', 'CGC': 'R', 'CUA': 'L', 'CCA': 'P', 'CAA': 'Q', 'CGA': 'R', 'CUG': 'L', 'CCG': 'P', 'CAG': 'Q', 'CGG': 'R', 'AUU': 'I', 'ACU': 'T', 'AAU': 'N', 'AGU': 'S', 'AUC': 'I', 'ACC': 'T', 'AAC': 'N', 'AGC': 'S', 'AUA': 'I', 'ACA': 'T', 'AAA': 'K', 'AGA': 'R', 'AUG': 'M', 'ACG': 'T', 'AAG': 'K', 'AGG': 'R', 'GUU': 'V', 'GCU': 'A', 'GAU': 'D', 'GGU': 'G', 'GUC': 'V', 'GCC': 'A', 'GAC': 'D', 'GGC': 'G', 'GUA': 'V', 'GCA': 'A', 'GAA': 'E', 'GGA': 'G', 'GUG': 'V', 'GCG': 'A', 'GAG': 'E', 'GGG': 'G'}\n",
    "\n",
    "get_dict_list()\n",
    "{'F': ['UUU', 'UUC'],\n",
    " 'S': ['UCU', 'UCC', 'UCA', 'UCG', 'AGU', 'AGC'],\n",
    " 'Y': ['UAU', 'UAC'],\n",
    " 'C': ['UGU', 'UGC'],\n",
    " 'L': ['UUA', 'UUG', 'CUU', 'CUC', 'CUA', 'CUG'],\n",
    " '*': ['UAA', 'UGA', 'UAG'],\n",
    " 'W': ['UGG'],\n",
    " 'P': ['CCU', 'CCC', 'CCA', 'CCG'],\n",
    " 'H': ['CAU', 'CAC'],\n",
    " 'R': ['CGU', 'CGC', 'CGA', 'CGG', 'AGA', 'AGG'],\n",
    " 'Q': ['CAA', 'CAG'],\n",
    " 'I': ['AUU', 'AUC', 'AUA'],\n",
    " 'T': ['ACU', 'ACC', 'ACA', 'ACG'],\n",
    " 'N': ['AAU', 'AAC'],\n",
    " 'K': ['AAA', 'AAG'],\n",
    " 'M': ['AUG'],\n",
    " 'V': ['GUU', 'GUC', 'GUA', 'GUG'],\n",
    " 'A': ['GCU', 'GCC', 'GCA', 'GCG'],\n",
    " 'D': ['GAU', 'GAC'],\n",
    " 'G': ['GGU', 'GGC', 'GGA', 'GGG'],\n",
    " 'E': ['GAA', 'GAG']}\n",
    "\n",
    "get_probabability_dict()\n",
    "AAA: 0.430000\tAAC: 0.530000\tAAG: 0.570000\tAAU: 0.470000\tACA: 0.280000\tACC: 0.360000\n",
    "ACG: 0.110000\tACU: 0.250000\tAGA: 0.210000\tAGC: 0.240000\tAGG: 0.210000\tAGU: 0.150000\n",
    "AUA: 0.170000\tAUC: 0.470000\tAUG: 1.000000\tAUU: 0.360000\tCAA: 0.270000\tCAC: 0.580000\n",
    "CAG: 0.730000\tCAU: 0.420000\tCCA: 0.280000\tCCC: 0.320000\tCCG: 0.110000\tCCU: 0.290000\n",
    "CGA: 0.110000\tCGC: 0.180000\tCGG: 0.200000\tCGU: 0.080000\tCUA: 0.070000\tCUC: 0.200000\n",
    "CUG: 0.400000\tCUU: 0.130000\tGAA: 0.420000\tGAC: 0.540000\tGAG: 0.580000\tGAU: 0.460000\n",
    "GCA: 0.230000\tGCC: 0.400000\tGCG: 0.110000\tGCU: 0.270000\tGGA: 0.250000\tGGC: 0.340000\n",
    "GGG: 0.250000\tGGU: 0.160000\tGUA: 0.120000\tGUC: 0.240000\tGUG: 0.460000\tGUU: 0.180000\n",
    "UAA: 0.300000\tUAC: 0.560000\tUAG: 0.240000\tUAU: 0.440000\tUCA: 0.150000\tUCC: 0.220000\n",
    "UCG: 0.050000\tUCU: 0.190000\tUGA: 0.470000\tUGC: 0.540000\tUGG: 1.000000\tUGU: 0.460000\n",
    "UUA: 0.080000\tUUC: 0.540000\tUUG: 0.130000\tUUU: 0.460000"
   ]
  },
  {
   "cell_type": "markdown",
   "metadata": {},
   "source": [
    "Now we are almost ready to produce random RNA sequences that code a given protein sequence. For this, we need a subroutine to *sample from a probability distribution*. Consider our earlier example of probabilities 36/100, 47/100, and 17/100 for `AUU`, `AUC`, and `AUA`, respectively. \n",
    "Let us assume we have a random number generator ```random()``` that returns a random number from interval $[0,1)$. We may then partition the unit interval according to cumulative probabilities to $[0,36/100), [36/100,83/100), [83/100,1)$, respectively. Depending which interval the number ```random()``` hits, we select the codon accordingly.\n",
    "\n",
    "7. Write a function ```random_event``` that chooses a random event, given a probability distribution (set of events whose probabilities sum to 1).\n",
    "You can use function ```random.uniform``` to produce values uniformly at random from the range $[0,1)$. The distribution should be given to your function as a dictionary from events to their probabilities."
   ]
  },
  {
   "cell_type": "code",
   "execution_count": 271,
   "metadata": {
    "ExecuteTime": {
     "end_time": "2019-07-08T22:04:23.036655Z",
     "start_time": "2019-07-08T22:04:23.030067Z"
    }
   },
   "outputs": [
    {
     "name": "stdout",
     "output_type": "stream",
     "text": [
      "T, G, T, G, T, T, G, G, T, C, G, C, T, C, C, C, C, C, C, T, C, T, T, A, T, T, C, C, T, T, C, A, T, T, T, T, T, G, C, G\n"
     ]
    }
   ],
   "source": [
    "def random_event(dist):\n",
    "    import numpy as np\n",
    "    \"\"\"\n",
    "    Takes as input a dictionary from events to their probabilities.\n",
    "    Return a random event sampled according to the given distribution.\n",
    "    The probabilities must sum to 1.0\n",
    "    \"\"\"\n",
    "    cum_range = np.cumsum(list(dist.values()))\n",
    "    keys = list(dist.keys())\n",
    "    x = np.random.uniform(0,1)\n",
    "    output = \"\"\n",
    "    if (x < cum_range[0]):\n",
    "        output = keys[0]\n",
    "    for i in range(1, len(dist)):\n",
    "        if (x>=cum_range[i-1] and x<cum_range[i]):\n",
    "            output = keys[i]\n",
    "    return output\n",
    "\n",
    "if __name__ == '__main__':\n",
    "    distribution = dict(zip(\"ACGT\", [0.10, 0.35, 0.15, 0.40]))\n",
    "    print(\", \".join(random_event(distribution) for _ in range(40)))"
   ]
  },
  {
   "cell_type": "markdown",
   "metadata": {},
   "source": [
    "### Idea of solution\n",
    "\n",
    "fill in "
   ]
  },
  {
   "cell_type": "markdown",
   "metadata": {},
   "source": [
    "### Discussion\n",
    "\n",
    "fill in "
   ]
  },
  {
   "cell_type": "markdown",
   "metadata": {},
   "source": [
    "With this general routine, the following should be easy to solve.\n",
    " \n",
    "8. Write a class ```ProteinToRandomRNA``` to produce a random RNA sequence encoding the input protein sequence according to the input codon adaptation probabilities. The actual conversion is done through the ```convert``` method. Run your program with `LTPIQNRA`."
   ]
  },
  {
   "cell_type": "code",
   "execution_count": 272,
   "metadata": {
    "ExecuteTime": {
     "end_time": "2019-07-08T22:04:23.073660Z",
     "start_time": "2019-07-08T22:04:23.067966Z"
    }
   },
   "outputs": [
    {
     "name": "stdout",
     "output_type": "stream",
     "text": [
      "CUGACCCCAAUUCAGAACAGAGCUCUGACACCGAUACAGAAUCGGGCUCUCACGCCCAUCCAGAACAGGGCU\n",
      "72 72\n"
     ]
    }
   ],
   "source": [
    "class ProteinToRandomRNA(object):\n",
    "    \n",
    "    def __init__(self):\n",
    "        pass\n",
    "\n",
    "    def convert(self, s):\n",
    "        d = get_dict_list()\n",
    "        codon_to_prob = get_probabability_dict()\n",
    "        rna = \"\"\n",
    "        for aminoacid in s:\n",
    "            dist = dict(zip(d[aminoacid], list(codon_to_prob[x] for x in d[aminoacid])))\n",
    "            rna += random_event(dist)\n",
    "        return rna\n",
    "    \n",
    "if __name__ == '__main__':\n",
    "    protein_to_random_codons = ProteinToRandomRNA()\n",
    "    print(protein_to_random_codons.convert(\"LTPIQNRALTPIQNRALTPIQNRA\"))\n",
    "    s = \"VMYAF*NN*HIRNWHRLDNYAYNI\"\n",
    "    x = protein_to_random_codons.convert(s)\n",
    "    print(len(s)*3, len(x))\n"
   ]
  },
  {
   "cell_type": "markdown",
   "metadata": {},
   "source": [
    "### Idea of solution\n",
    "\n",
    "choose RNA randomly using random_event from the protein: [RNA list]  "
   ]
  },
  {
   "cell_type": "markdown",
   "metadata": {},
   "source": [
    "### Discussion\n",
    "\n",
    "fill in "
   ]
  },
  {
   "cell_type": "markdown",
   "metadata": {},
   "source": [
    "## Generating DNA sequences with higher-order Markov chains\n",
    "\n",
    "We will now reuse the machinery derived above in a related context. We go back to DNA sequences, and consider some easy statistics that can be used to characterize the sequences. \n",
    "First, just the frequencies of bases $\\texttt{A}$, $\\texttt{C}$, $\\texttt{G}$, $\\texttt{T}$ may reveal the species from which the input DNA originates; each species has a different base composition that has been formed during evolution. \n",
    "More interestingly, the areas where DNA to RNA transcription takes place (coding region) have an excess of $\\texttt{C}$ and $\\texttt{G}$ over $\\texttt{A}$ and $\\texttt{T}$. To detect such areas a common routine is to just use a *sliding window* of fixed size, say $k$, and compute for each window position \n",
    "$T[i..i+k-1]$ the base frequencies, where $T[1..n]$ is the input DNA sequence. When sliding the window from  $T[i..i+k-1]$ to $T[i+1..i+k]$ frequency $f(T[i])$ gets decreases by one and $f(T[i+k])$ gets increased by one. \n",
    "\n",
    "9. Write a *generator* ```sliding_window``` to compute sliding window base frequencies so that each moving of the window takes constant time. We saw in the beginning of the course one way how to create generators using\n",
    "  generator expression. Here we use a different way. For the function ```sliding_window``` to be a generator, it must have at least   one ```yield``` expression, see [https://docs.python.org/3/reference/expressions.html#yieldexpr](https://docs.python.org/3/reference/expressions.html#yieldexpr).\n",
    "  \n",
    "  Here is an example of a generator expression that works similarily to the built in `range` generator:\n",
    "  ```Python\n",
    "  def range(a, b=None, c=1):\n",
    "      current = 0 if b == None else a\n",
    "      end = a if b == None else b\n",
    "      while current < end:\n",
    "          yield current\n",
    "          current += c\n",
    "  ```\n",
    "  A yield expression can be used to return a value and *temporarily* return from the function."
   ]
  },
  {
   "cell_type": "code",
   "execution_count": 301,
   "metadata": {
    "ExecuteTime": {
     "end_time": "2019-07-08T22:04:23.111365Z",
     "start_time": "2019-07-08T22:04:23.100858Z"
    }
   },
   "outputs": [
    {
     "name": "stdout",
     "output_type": "stream",
     "text": [
      "{'T': 1, 'G': 0, 'A': 0, 'C': 3}\n",
      "{'T': 0, 'G': 1, 'A': 0, 'C': 3}\n",
      "{'T': 0, 'G': 1, 'A': 1, 'C': 2}\n",
      "{'T': 0, 'G': 1, 'A': 1, 'C': 2}\n",
      "{'T': 0, 'G': 2, 'A': 1, 'C': 1}\n",
      "{'T': 0, 'G': 2, 'A': 1, 'C': 1}\n",
      "{'T': 0, 'G': 2, 'A': 0, 'C': 2}\n",
      "{'T': 0, 'G': 2, 'A': 0, 'C': 2}\n",
      "{'T': 1, 'G': 1, 'A': 0, 'C': 2}\n",
      "{'T': 2, 'G': 0, 'A': 0, 'C': 2}\n",
      "{'T': 2, 'G': 1, 'A': 0, 'C': 1}\n",
      "{'T': 2, 'G': 1, 'A': 0, 'C': 1}\n",
      "{'T': 1, 'G': 1, 'A': 0, 'C': 2}\n"
     ]
    }
   ],
   "source": [
    "def sliding_window(s, k):\n",
    "    \"\"\"\n",
    "    This function returns a generator that can be iterated over all\n",
    "    starting position of a k-window in the sequence.\n",
    "    For each starting position the generator returns the nucleotide frequencies\n",
    "    in the window as a dictionary.\n",
    "    \"\"\"\n",
    "    for i in range(len(s)-k+1):\n",
    "        win = s[i:i+k]\n",
    "        yield {e:win.count(e) for e in set('ACGT')}\n",
    "        \n",
    "if __name__ == '__main__':\n",
    "    s = \"TCCCGACGGCCTTGCC\"\n",
    "    for d in sliding_window(s, 4):\n",
    "        print(d)"
   ]
  },
  {
   "cell_type": "markdown",
   "metadata": {},
   "source": [
    "### Idea of solution"
   ]
  },
  {
   "cell_type": "raw",
   "metadata": {},
   "source": [
    "TCCCGACGGCCTTGCC\n",
    "TCCC    -> T once, C 3 times -> to dictionary {T:1, C:3, A:0, G:0}\n",
    " CCCG    -> C 3 times, G once   -> {T:0, C:3, A:0, G:1}\n",
    "  CCGA\n",
    "   CGAC\n",
    "    GACG\n",
    "     ACGG\n",
    "      ... \n",
    "using yield, get shift position from each iteration, slice with 4(k) and count how many times."
   ]
  },
  {
   "cell_type": "markdown",
   "metadata": {},
   "source": [
    "### Discussion\n",
    "\n",
    "fill in "
   ]
  },
  {
   "cell_type": "markdown",
   "metadata": {},
   "source": [
    " \n",
    "Our models so far have been so-called *zero-order* models, as each event has been independent of other events. With sequences, the dependencies of events are naturally encoded by their *contexts*. Considering that a sequence is produced from left-to-right, a *first-order* context for $T[i]$ is $T[i-1]$, that is, the immediately preceding symbol. *First-order Markov chain* is a sequence produced by generating $c=T[i]$ with the probability of event of seeing symbol $c$ after previously generated symbol $a=T[i-1]$. The first symbol of the chain is sampled according to the zero-order model.  \n",
    "The first-order model can naturally be extended to contexts of length $k$, with $T[i]$ depending on $T[i-k..i-1]$. Then the first $k$ symbols of the chain are sampled according to the zero-order model.  The following assignments develop the routines to work with the *higher-order Markov chains*. \n",
    "In what follows, a $k$-mer is a substring $T[i..i+k-1]$ of the sequence at an arbitrary position. \n",
    "\n",
    "10. Write function ```context_list``` that given an input DNA sequence $T$ associates to each $k$-mer $W$ the concatenation of all symbols $c$ that appear after context $W$ in $T$, that is, $T[i..i+k]=Wc$. For example, <span style=\"color:red; font:courier;\">GA</span> is associated to <span style=\"color:blue; font: courier;\">TCT</span> in $T$=<span style=\"font: courier;\">AT<span style=\"color:red;\">GA</span><span style=\"color:blue;\">T</span>ATCATC<span style=\"color:red;\">GA</span><span style=\"color:blue;\">C</span><span style=\"color:red;\">GA</span><span style=\"color:blue;\">T</span>GTAG</span>, when $k=2$."
   ]
  },
  {
   "cell_type": "code",
   "execution_count": 302,
   "metadata": {
    "ExecuteTime": {
     "end_time": "2019-07-08T22:04:23.168108Z",
     "start_time": "2019-07-08T22:04:23.162648Z"
    }
   },
   "outputs": [
    {
     "name": "stdout",
     "output_type": "stream",
     "text": [
      "{'A': 'TTTTCTG', 'T': 'GACCGA', 'G': 'AAAT', 'C': 'AGG'}\n"
     ]
    }
   ],
   "source": [
    "def context_list(s, k):\n",
    "    d = {}\n",
    "    for i in range(len(s)-k):\n",
    "        x = s[i : i+k]\n",
    "        if x in d:\n",
    "            d[x] +=s[i+k]\n",
    "        else:\n",
    "            d[x] = s[i+k]\n",
    "\n",
    "    return d\n",
    "    \n",
    "if __name__ == '__main__':\n",
    "    k = 2\n",
    "    s = \"ATGATATCATCGACGATGTAG\" \n",
    "    d = context_list(s, 1)\n",
    "    print(d)"
   ]
  },
  {
   "cell_type": "code",
   "execution_count": 303,
   "metadata": {},
   "outputs": [],
   "source": [
    "def count_context_list_(s, k):\n",
    "    d1 = {}\n",
    "    for i in range(len(s)-2):\n",
    "        x = s[i : i+2]\n",
    "        if x in d1:\n",
    "            d1[x] +=1\n",
    "        else:\n",
    "            d1[x] = 1"
   ]
  },
  {
   "cell_type": "markdown",
   "metadata": {},
   "source": [
    "### Idea of solution\n",
    "\n",
    "fill in"
   ]
  },
  {
   "cell_type": "markdown",
   "metadata": {},
   "source": [
    "### Discussion\n",
    "\n",
    "fill in"
   ]
  },
  {
   "cell_type": "markdown",
   "metadata": {},
   "source": [
    "11. With the above solution, write function ```context_probabilities``` to count the frequencies of symbols in each context and convert these frequencies into probabilities. Run `context_probabilities` with $T=$ `ATGATATCATCGACGATGTAG` and $k$ values 0 and 2."
   ]
  },
  {
   "cell_type": "code",
   "execution_count": 306,
   "metadata": {
    "ExecuteTime": {
     "end_time": "2019-07-08T22:04:23.218964Z",
     "start_time": "2019-07-08T22:04:23.213773Z"
    }
   },
   "outputs": [
    {
     "name": "stdout",
     "output_type": "stream",
     "text": [
      "{'AT': 'GACCG', 'TG': 'AT', 'GA': 'TCT', 'TA': 'TG', 'TC': 'AG', 'CA': 'T', 'CG': 'AA', 'AC': 'G', 'GT': 'A'}\n",
      "{'AT': {'A': 0.2, 'G': 0.4, 'C': 0.4}, 'TG': {'T': 0.5, 'A': 0.5}, 'GA': {'T': 0.6666666666666666, 'C': 0.3333333333333333}, 'TA': {'T': 0.5, 'G': 0.5}, 'TC': {'G': 0.5, 'A': 0.5}, 'CA': {'T': 1.0}, 'CG': {'A': 1.0}, 'AC': {'G': 1.0}, 'GT': {'A': 1.0}}\n"
     ]
    }
   ],
   "source": [
    "def context_probabilities(s, k):\n",
    "    from collections import defaultdict\n",
    "    \n",
    "    d = context_list(s, k)\n",
    "    print(d)\n",
    "    d2 = {}\n",
    "    for key in d.keys():\n",
    "        count = defaultdict(list)\n",
    "        d2[key] = {e: d[key].count(e)/len(d[key]) for e in set(d[key])}\n",
    "  \n",
    "    return d2\n",
    "\n",
    "if __name__ == '__main__':\n",
    "    k = 2\n",
    "    s = \"ATGATATCATCGACGATGTAG\"\n",
    "    d = context_probabilities(s, 2)\n",
    "    print(d)"
   ]
  },
  {
   "cell_type": "markdown",
   "metadata": {},
   "source": [
    "### Idea of solution\n",
    "\n",
    "fill in"
   ]
  },
  {
   "cell_type": "markdown",
   "metadata": {},
   "source": [
    "### Discussion\n",
    "\n",
    "fill in"
   ]
  },
  {
   "cell_type": "markdown",
   "metadata": {},
   "source": [
    "12. With the above solution and the function ```random_event``` from the earlier exercise, write class ```MarkovChain```. Its ```generate``` method should generate a random DNA sequence following the original $k$-th order Markov chain probabilities. "
   ]
  },
  {
   "cell_type": "code",
   "execution_count": 307,
   "metadata": {
    "ExecuteTime": {
     "end_time": "2019-07-08T22:04:23.279315Z",
     "start_time": "2019-07-08T22:04:23.253983Z"
    }
   },
   "outputs": [
    {
     "name": "stdout",
     "output_type": "stream",
     "text": [
      "TGTATGATGA\n"
     ]
    }
   ],
   "source": [
    "class MarkovChain:\n",
    "    \n",
    "    def __init__(self, zeroth, kth, k=2):\n",
    "        self.k = k\n",
    "        self.zeroth = zeroth\n",
    "        self.kth = kth\n",
    "        \n",
    "    def generate(self, n, seed=None):\n",
    "        k = self.k\n",
    "        zeroth = self.zeroth\n",
    "        kth = self.kth\n",
    "        np.random.seed(seed)\n",
    "        \n",
    "        output =\"\"\n",
    "        if n == 0:\n",
    "            return output\n",
    "        if n < k:\n",
    "            for i in range(n):\n",
    "                output += random_event(zeroth)\n",
    "            return output\n",
    "        \n",
    "        for i in range(k):\n",
    "            output += random_event(zeroth)\n",
    "        for i in range(n-k):\n",
    "            s = output[len(output)-k: len(output)]\n",
    "            if s in kth:\n",
    "                output += random_event(kth[s])\n",
    "            else:\n",
    "                output += random_event(zeroth)\n",
    "                \n",
    "        return output\n",
    "\n",
    "if __name__ == '__main__':\n",
    "    zeroth = {'A': 0.2, 'C': 0.19, 'T': 0.31, 'G': 0.3}\n",
    "    kth = {'GT': {'A': 1.0, 'C': 0.0, 'T': 0.0, 'G': 0.0},\n",
    "           'CA': {'A': 0.0, 'C': 0.0, 'T': 1.0, 'G': 0.0},\n",
    "           'TC': {'A': 0.5, 'C': 0.0, 'T': 0.0, 'G': 0.5},\n",
    "           'GA': {'A': 0.0, 'C': 0.3333333333333333, 'T': 0.6666666666666666, 'G': 0.0},\n",
    "           'TG': {'A': 0.5, 'C': 0.0, 'T': 0.5, 'G': 0.0},\n",
    "           'AT': {'A': 0.2, 'C': 0.4, 'T': 0.0, 'G': 0.4},\n",
    "           'TA': {'A': 0.0, 'C': 0.0, 'T': 0.5, 'G': 0.5},\n",
    "           'AC': {'A': 0.0, 'C': 0.0, 'T': 0.0, 'G': 1.0},\n",
    "           'CG': {'A': 1.0, 'C': 0.0, 'T': 0.0, 'G': 0.0}}\n",
    "    n = 10    \n",
    "    seed = 0\n",
    "    mc = MarkovChain(zeroth, kth)\n",
    "    print(mc.generate(10, seed))"
   ]
  },
  {
   "cell_type": "markdown",
   "metadata": {},
   "source": [
    "### Idea of solution\n",
    "\n",
    "fill in"
   ]
  },
  {
   "cell_type": "markdown",
   "metadata": {},
   "source": [
    "### Discussion\n",
    "\n",
    "fill in "
   ]
  },
  {
   "cell_type": "markdown",
   "metadata": {},
   "source": [
    "If you have survived so far without problems, please run your program a few more times with different inputs. At some point you should get a lookup error in your hash-table! The reason for this is not your code, but the way we defined the model: Some $k$-mers may not be among the training data (input sequence $T$), but such can be generated as the first $k$-mer that is generated using the zero-order model.  \n",
    "\n",
    "A general approach to fixing such issues with incomplete training data is to use *pseudo counts*. That is, all imaginable events are initialized to frequency count 1.   \n",
    "\n",
    "13. Write a new solution `context_pseudo_probabilities` based on the solution to problem 11. But this time use pseudo counts in order to obtain a $k$-th order Markov chain that can assign a probability for any DNA sequence. You may use the standard library function `itertools.product` to iterate over all $k$-mer of given length (`product(\"ACGT\", repeat=k)`)."
   ]
  },
  {
   "cell_type": "code",
   "execution_count": 309,
   "metadata": {
    "ExecuteTime": {
     "end_time": "2019-07-08T22:04:23.303566Z",
     "start_time": "2019-07-08T22:04:23.296028Z"
    }
   },
   "outputs": [
    {
     "name": "stdout",
     "output_type": "stream",
     "text": [
      "zeroth: {'A': 0.32, 'C': 0.16, 'G': 0.24000000000000002, 'T': 0.28}\n",
      "AA: {'A': 0.25, 'C': 0.25, 'G': 0.25, 'T': 0.25}\n",
      "AC: {'A': 0.2, 'C': 0.2, 'G': 0.4, 'T': 0.2}\n",
      "AG: {'A': 0.25, 'C': 0.25, 'G': 0.25, 'T': 0.25}\n",
      "AT: {'A': 0.2222222222222222, 'C': 0.3333333333333333, 'G': 0.3333333333333333, 'T': 0.1111111111111111}\n",
      "CA: {'A': 0.2, 'C': 0.2, 'G': 0.2, 'T': 0.4}\n",
      "CC: {'A': 0.25, 'C': 0.25, 'G': 0.25, 'T': 0.25}\n",
      "CG: {'A': 0.5, 'C': 0.16666666666666666, 'G': 0.16666666666666666, 'T': 0.16666666666666666}\n",
      "CT: {'A': 0.25, 'C': 0.25, 'G': 0.25, 'T': 0.25}\n",
      "GA: {'A': 0.14285714285714285, 'C': 0.2857142857142857, 'G': 0.14285714285714285, 'T': 0.42857142857142855}\n",
      "GC: {'A': 0.25, 'C': 0.25, 'G': 0.25, 'T': 0.25}\n",
      "GG: {'A': 0.25, 'C': 0.25, 'G': 0.25, 'T': 0.25}\n",
      "GT: {'A': 0.4, 'C': 0.2, 'G': 0.2, 'T': 0.2}\n",
      "TA: {'A': 0.16666666666666666, 'C': 0.16666666666666666, 'G': 0.3333333333333333, 'T': 0.3333333333333333}\n",
      "TC: {'A': 0.3333333333333333, 'C': 0.16666666666666666, 'G': 0.3333333333333333, 'T': 0.16666666666666666}\n",
      "TG: {'A': 0.3333333333333333, 'C': 0.16666666666666666, 'G': 0.16666666666666666, 'T': 0.3333333333333333}\n",
      "TT: {'A': 0.25, 'C': 0.25, 'G': 0.25, 'T': 0.25}\n",
      "\n",
      " TGTAGTCATTTGACGAATGT\n"
     ]
    }
   ],
   "source": [
    "def context_pseudo_probabilities(s, k):\n",
    "    from itertools import product\n",
    "    #if k == 0:\n",
    "    #    d ={}\n",
    "    #    d1 = {'A':1/(len(s)+4), 'C':1/(len(s)+4),'G':1/(len(s)+4),'T':1/(len(s)+4)}\n",
    "    #    for i in range(len(s)):\n",
    "    #        d1[s[i]] +=1/(len(s)+4)\n",
    "    #    d[\"\"] = d1  \n",
    "    #    return d\n",
    "\n",
    "    d ={}\n",
    "    for i in product(\"ACGT\", repeat=k):\n",
    "        x= \"\".join(i)\n",
    "        d[x] = 'ACGT'\n",
    "    for i in range(len(s)-k):\n",
    "        x = s[i : i+k]\n",
    "        if x in d:\n",
    "            d[x] +=s[i+k]\n",
    "        else:\n",
    "            d[x] = s[i+k]\n",
    "    d2 = {}\n",
    "    for key in d.keys():\n",
    "        count = defaultdict(float)\n",
    "        for c in d[key]:\n",
    "            count[c] += 1/len(d[key])\n",
    "        d2[key] = dict(count)\n",
    "    return d2 \n",
    "\n",
    "if __name__ == '__main__':\n",
    "    k = 2\n",
    "    s = \"ATGATATCATCGACGATGTAG\"\n",
    "    kth = context_pseudo_probabilities(s, k)\n",
    "    zeroth = context_pseudo_probabilities(s, 0)[\"\"]\n",
    "    print(f\"zeroth: {zeroth}\")\n",
    "    print(\"\\n\".join(f\"{k}: {dict(v)}\" for k, v in kth.items()))\n",
    "    \n",
    "    print(\"\\n\", MarkovChain(zeroth, kth, k).generate(20))"
   ]
  },
  {
   "cell_type": "markdown",
   "metadata": {},
   "source": [
    "### Idea of solution\n",
    "\n",
    "fill in "
   ]
  },
  {
   "cell_type": "markdown",
   "metadata": {},
   "source": [
    "### Discussion\n",
    "\n",
    "fill in "
   ]
  },
  {
   "cell_type": "markdown",
   "metadata": {},
   "source": [
    "14. Write class ```MarkovProb``` that given the $k$-th order Markov chain developed above to the constructor, its method ```probability``` computes the probability of a given input DNA sequence."
   ]
  },
  {
   "cell_type": "code",
   "execution_count": 312,
   "metadata": {
    "ExecuteTime": {
     "end_time": "2019-07-08T22:04:23.346222Z",
     "start_time": "2019-07-08T22:04:23.330779Z"
    }
   },
   "outputs": [
    {
     "name": "stdout",
     "output_type": "stream",
     "text": [
      "Probability of sequence ATGATATCATCGACGATGTAG is 2.831270190340017e-10\n"
     ]
    }
   ],
   "source": [
    "class MarkovProb:\n",
    "    def __init__(self, k, zeroth, kth):\n",
    "        self.k = k\n",
    "        self.zeroth = zeroth\n",
    "        self.kth = kth\n",
    "        \n",
    "    def probability(self, s):\n",
    "        zeroth = self.zeroth\n",
    "        kth = self.kth\n",
    "        k = self.k\n",
    "        p = []\n",
    "        prob = 1\n",
    "        if (len(s)<k):\n",
    "            for i in range(0,len(s)):\n",
    "                p.append(zeroth[s[i]])\n",
    "                prob *= zeroth[s[i]]\n",
    "            return prob\n",
    "        \n",
    "        for i in range(0,k):\n",
    "            p.append(zeroth[s[i]])\n",
    "            prob *= zeroth[s[i]]\n",
    "        for i in range(k, len(s)):\n",
    "            key =s[i-k:i]\n",
    "            p.append(kth[key][s[i]])\n",
    "            prob *= kth[key][s[i]]\n",
    "            \n",
    "        return prob\n",
    "\n",
    "if __name__ == '__main__':\n",
    "    k = 2\n",
    "    kth = context_pseudo_probabilities(\"ATGATATCATCGACGATGTAG\", k)\n",
    "    zeroth = context_pseudo_probabilities(\"ATGATATCATCGACGATGTAG\", 0)[\"\"]\n",
    "    mc = MarkovProb(2, zeroth, kth)\n",
    "    s=\"ATGATATCATCGACGATGTAG\"\n",
    "    \n",
    "    print(f\"Probability of sequence {s} is {mc.probability(s)}\")\n"
   ]
  },
  {
   "cell_type": "markdown",
   "metadata": {},
   "source": [
    "### Idea of solution\n",
    "\n",
    "fill in"
   ]
  },
  {
   "cell_type": "markdown",
   "metadata": {},
   "source": [
    "### Discussion\n",
    "\n",
    "fill in"
   ]
  },
  {
   "cell_type": "markdown",
   "metadata": {},
   "source": [
    "With the last assignment you might end up in trouble with precision, as multiplying many small probabilities gives a really small number in the end. There is an easy fix by using so-called log-transform. \n",
    "Consider computation of $P=s_1 s_2 \\cdots s_n$, where $0\\leq s_i\\leq 1$ for each $i$. Taking logarithm in base 2 from both sides gives $\\log _2 P= \\log _2 (s_1 s_2 \\cdots s_n)=\\log_2 s_1 + \\log_2 s_2 + \\cdots \\log s_n= \\sum_{i=1}^n \\log s_i$, with repeated application of the property that the logarithm of a multiplication of two numbers is the sum of logarithms of the two numbers taken separately. The results is abbreviated as log-probability.\n",
    "\n",
    "15. Write class ```MarkovLog``` that given the $k$-th order Markov chain developed above to the constructor, its method ```log_probability``` computes the log-probability of a given input DNA sequence. Run your program with $T=$ `ATGATATCATCGACGATGTAG` and $k=2$."
   ]
  },
  {
   "cell_type": "code",
   "execution_count": 318,
   "metadata": {
    "ExecuteTime": {
     "end_time": "2019-07-08T22:04:23.390453Z",
     "start_time": "2019-07-08T22:04:23.379760Z"
    }
   },
   "outputs": [
    {
     "name": "stdout",
     "output_type": "stream",
     "text": [
      "Log probability of sequence ATGATATCATCGACGATGTAG is -31.717831515538315\n"
     ]
    }
   ],
   "source": [
    "class MarkovLog(object):\n",
    "\n",
    "    def __init__(self, k, zeroth, kth):\n",
    "        self.k = k\n",
    "        self.zeroth = zeroth\n",
    "        self.kth = kth\n",
    "        \n",
    "    def log_probability(self, s):\n",
    "        k = self.k\n",
    "        zeroth = self.zeroth\n",
    "        kth = self.kth\n",
    "        prob = 0\n",
    "        p = []\n",
    "        if (len(s) < k):\n",
    "            for i in range(0,len(s)):\n",
    "                p.append(zeroth[s[i]])\n",
    "                prob += np.log2(zeroth[s[i]])\n",
    "            return prob\n",
    "        \n",
    "        for i in range(0,k):\n",
    "            p.append(zeroth[s[i]])\n",
    "            prob += np.log2(zeroth[s[i]])\n",
    "        for i in range(k, len(s)):\n",
    "            key =s[i-2:i]\n",
    "            p.append(kth[key][s[i]])\n",
    "            prob += np.log2(kth[key][s[i]])\n",
    "        return prob \n",
    "    \n",
    "if __name__ == '__main__':\n",
    "    k = 2\n",
    "    kth = context_pseudo_probabilities(\"ATGATATCATCGACGATGTAG\", k)\n",
    "    zeroth = context_pseudo_probabilities(\"ATGATATCATCGACGATGTAG\", 0)[\"\"]\n",
    "    mc = MarkovLog(2, zeroth, kth)\n",
    "    s=\"ATGATATCATCGACGATGTAG\"\n",
    "\n",
    "    print(f\"Log probability of sequence {s} is {mc.log_probability(s)}\")"
   ]
  },
  {
   "cell_type": "markdown",
   "metadata": {},
   "source": [
    "### Idea of solution\n",
    "\n",
    "fill in"
   ]
  },
  {
   "cell_type": "markdown",
   "metadata": {},
   "source": [
    "### Discussion\n",
    "\n",
    "fill in"
   ]
  },
  {
   "cell_type": "markdown",
   "metadata": {},
   "source": [
    "Finally, if you try to use the code so far for very large inputs, you might observe that the concatenation of symbols following a context occupy considerable amount of space. This is unnecessary, as we only need the frequencies. \n",
    "\n",
    "16. Optimize the space requirement of your code from exercise 13 for the $k$-th order Markov chain by replacing the concatenations by direct computations of the frequencies. Implement this as the\n",
    "  ```better_context_probabilities``` function."
   ]
  },
  {
   "cell_type": "code",
   "execution_count": 327,
   "metadata": {
    "ExecuteTime": {
     "end_time": "2019-07-08T22:04:23.422302Z",
     "start_time": "2019-07-08T22:04:23.416330Z"
    }
   },
   "outputs": [
    {
     "name": "stdout",
     "output_type": "stream",
     "text": [
      "{'': {'A': 0.32, 'C': 0.16, 'G': 0.24, 'T': 0.28}}\n",
      ": {'A': 0.32, 'C': 0.16, 'G': 0.24, 'T': 0.28}\n"
     ]
    }
   ],
   "source": [
    "def better_context_probabilities(s, k): \n",
    "    from itertools import product\n",
    "    #if k ==0:\n",
    "    #    d1 = {'A':1/(len(s)+4), 'C':1/(len(s)+4),'G':1/(len(s)+4),'T':1/(len(s)+4)}\n",
    "    #    for i in range(len(s)):\n",
    "    #        d1[s[i]] +=1/(len(s)+4)\n",
    "    #    return d1\n",
    "\n",
    "    d ={}\n",
    "    for i in product(\"ACGT\", repeat=k):\n",
    "        x= \"\".join(i)\n",
    "        d[x] = dict(zip('ACGT', [1,1,1,1]))\n",
    "    for i in range(len(s)-k):\n",
    "        key = s[i:i+k]\n",
    "        d[key][s[i+k]] += 1\n",
    "    for key in d.keys():\n",
    "        l = list(d[key].values())\n",
    "        newValueslist = [i/sum(l) for i in l]\n",
    "        d[key] = dict(zip('ACGT', newValueslist))\n",
    "    return d\n",
    "\n",
    "if __name__ == '__main__':\n",
    "    k = 2\n",
    "    s = \"ATGATATCATCGACGATGTAG\"\n",
    "    #s = \"A\"\n",
    "    d = better_context_probabilities(s, 0)\n",
    "    print(d)\n",
    "    print(\"\\n\".join(f\"{k}: {v}\" for k, v in d.items()))"
   ]
  },
  {
   "cell_type": "markdown",
   "metadata": {},
   "source": [
    "### Idea of solution\n",
    "\n",
    "fill in"
   ]
  },
  {
   "cell_type": "markdown",
   "metadata": {},
   "source": [
    "### Discussion\n",
    "\n",
    "fill in"
   ]
  },
  {
   "cell_type": "markdown",
   "metadata": {},
   "source": [
    "While the earlier approach of explicit concatenation of symbols following a context suffered from inefficient use of space, it does have a benefit of giving another much simpler strategy to sample from the distribution: \n",
    "observe that an element of the concatenation taken uniformly randomly is sampled exactly with the correct probability. \n",
    "\n",
    "17. Revisit the solution 12 and modify it to directly sample from the concatenation of symbols following a context. The function ```np.random.choice``` may be convenient here. Implement the modified version as the new `SimpleMarkovChain` class."
   ]
  },
  {
   "cell_type": "code",
   "execution_count": 330,
   "metadata": {
    "ExecuteTime": {
     "end_time": "2019-07-08T22:04:23.462556Z",
     "start_time": "2019-07-08T22:04:23.453101Z"
    }
   },
   "outputs": [
    {
     "name": "stdout",
     "output_type": "stream",
     "text": [
      "T\n"
     ]
    }
   ],
   "source": [
    "class SimpleMarkovChain(object):\n",
    "    def __init__(self, s, k):\n",
    "        self.k = k\n",
    "        self.s = s\n",
    "\n",
    "    def generate(self, n, seed=None):\n",
    "        s = self.s\n",
    "        k = self.k\n",
    "        zeroth = better_context_probabilities(s, 0)[\"\"]\n",
    "        #zeroth = {'A': 0.32, 'C': 0.16, 'G': 0.24, 'T': 0.28}\n",
    "        kth = better_context_probabilities(s,k)\n",
    "        \n",
    "        np.random.seed(seed)\n",
    "        output =\"\"\n",
    "        if (len(s) == 0 or n == 0):\n",
    "            return output\n",
    "        \n",
    "        if (len(s) < k):\n",
    "            for i in range(len(s)):\n",
    "                output += np.random.choice(list(zeroth.keys()), 1, list(zeroth.values()))[0]\n",
    "            return output\n",
    "        \n",
    "        if (n < k or k == 0):\n",
    "            for i in range(n):\n",
    "                output += np.random.choice(list(zeroth.keys()), 1, list(zeroth.values()))[0]\n",
    "            return output\n",
    "            \n",
    "        for i in range(k):\n",
    "            output += np.random.choice(list(zeroth.keys()), 1, list(zeroth.values()))[0]\n",
    "        for i in range(k, n):\n",
    "            key = output[len(output)-k: len(output)]\n",
    "            output += np.random.choice(list(kth[key].keys()), 1, list(kth[key].values()))[0]\n",
    "        return output\n",
    "        \n",
    "if __name__ == '__main__':\n",
    "    k = 2\n",
    "    s = \"ATGATATCATCGACGATGTAG\"\n",
    "    n = 10\n",
    "    seed = 7\n",
    "    mc = SimpleMarkovChain(s, 0)\n",
    "    print(mc.generate(1, seed))"
   ]
  },
  {
   "cell_type": "markdown",
   "metadata": {},
   "source": [
    "### Idea of solution\n",
    "\n",
    "fill in"
   ]
  },
  {
   "cell_type": "markdown",
   "metadata": {},
   "source": [
    "### Discussion\n",
    "\n",
    "fill in"
   ]
  },
  {
   "cell_type": "markdown",
   "metadata": {},
   "source": [
    "## $k$-mer index\n",
    "\n",
    "Our $k$-th order Markov chain can now be modified to a handy index structure called $k$-mer index. This index structure associates to each $k$-mer its list of occurrence positions in DNA sequence $T$.  Given a query $k$-mer $W$, one can thus easily list all positions $i$ with  $T[i..k-1]=W$.\n",
    "\n",
    "18. Implement function ```kmer_index``` inspired by your earlier code for the $k$-th order Markov chain. Test your program with `ATGATATCATCGACGATGTAG` and $k=2$."
   ]
  },
  {
   "cell_type": "code",
   "execution_count": 343,
   "metadata": {
    "ExecuteTime": {
     "end_time": "2019-07-08T22:04:23.504405Z",
     "start_time": "2019-07-08T22:04:23.494537Z"
    }
   },
   "outputs": [
    {
     "name": "stdout",
     "output_type": "stream",
     "text": [
      "Using string:\n",
      "ATGATATCATCGACGATGTAG\n",
      "012345678901234567890\n",
      "\n",
      "0-mer index is:\n",
      "{'': [0, 1, 2, 3, 4, 5, 6, 7, 8, 9, 10, 11, 12, 13, 14, 15, 16, 17, 18, 19, 20, 21]}\n"
     ]
    }
   ],
   "source": [
    "def kmer_index(s, k):\n",
    "    d = defaultdict(list)\n",
    "    \n",
    "    if len(s) < k:\n",
    "        return d\n",
    "    for i in range(len(s)-k+1):\n",
    "        key = s[i:i+k]\n",
    "        d[key].append(i)\n",
    "    return d\n",
    "\n",
    "if __name__ == '__main__':\n",
    "    k=0\n",
    "    s = \"ATGATATCATCGACGATGTAG\"\n",
    "    print(\"Using string:\")\n",
    "    print(s)\n",
    "    print(\"\".join([str(i%10) for i in range(len(s))]))\n",
    "    print(f\"\\n{k}-mer index is:\")\n",
    "    d=kmer_index(s, k)\n",
    "    print(dict(d))"
   ]
  },
  {
   "cell_type": "markdown",
   "metadata": {},
   "source": [
    "### Idea of solution\n",
    "\n",
    "fill in"
   ]
  },
  {
   "cell_type": "markdown",
   "metadata": {},
   "source": [
    "### Discussion\n",
    "\n",
    "fill in"
   ]
  },
  {
   "cell_type": "markdown",
   "metadata": {},
   "source": [
    "## Comparison of probability distributions\n",
    "\n",
    "Now that we know how to learn probability distributions from data, we might want to compare two such distributions, for example, to test if our programs work as intended. \n",
    "\n",
    "Let $P=\\{p_1,p_2,\\ldots, p_n\\}$ and $Q=\\{q_1,q_2,\\ldots, q_n\\}$ be two probability distributions for the same set of $n$ events. This means $\\sum_{i=1}^n p_i=\\sum_{i=1}^n q_i=1$, $0\\leq p_j \\leq 1$, and $0\\leq q_j \\leq 1$ for each event $j$. \n",
    "\n",
    "*Kullback-Leibler divergence* is a measure $d()$ for the *relative entropy* of $P$ with respect to $Q$ defined as \n",
    "$d(P||Q)=\\sum_{i=1}^n p_i \\log\\frac{p_i}{q_i}$.\n",
    "\n",
    "\n",
    "This measure is always non-negative, and 0 only when $P=Q$. It can be interpreted as the gain of knowing $Q$ to encode $P$. Note that this measure is not symmetric.\n",
    "\n",
    "19. Write function ```kullback_leibler``` to compute $d(P||Q)$. Test your solution by generating a random RNA sequence\n",
    "  encoding the input protein sequence according to the input codon adaptation probabilities.\n",
    "  Then you should learn the codon adaptation probabilities from the RNA sequence you generated.\n",
    "  Then try the same with uniformly random RNA sequences (which don't have to encode any\n",
    "  specific protein sequence). Compute the relative entropies between the\n",
    "  three distribution (original, predicted, uniform) and you should observe a clear difference.\n",
    "  Because $d(P||Q)$ is not symmetric, you can either print both $d(P||Q)$ and $d(Q||P)$,\n",
    "  or their average.\n",
    "  \n",
    "  This problem may be fairly tricky. Only the `kullback_leibler` function is automatically tested. The codon probabilities is probably a useful helper function. The main guarded section can be completed by filling out the `pass` sections using tooling from previous parts and fixing the *placeholder* lines."
   ]
  },
  {
   "cell_type": "code",
   "execution_count": 338,
   "metadata": {},
   "outputs": [
    {
     "name": "stdout",
     "output_type": "stream",
     "text": [
      "d(original || predicted) = 0.1311214360192176\n",
      "d(predicted || original) = 0.399103683819716\n",
      "\n",
      "d(original || uniform) = 0.2693668700801556\n",
      "d(uniform || original) = 0.36329066449613584\n",
      "\n",
      "d(predicted || uniform) = 0.4668450266936777\n",
      "d(uniform || predicted) = 0.1312580724815192\n"
     ]
    }
   ],
   "source": [
    "def get_codon_usage_frequency():   \n",
    "    frequency = {}\n",
    "    x = codon_usage_table_text.split(')')\n",
    "    for i in range(len(x)-1):\n",
    "        frequency[x[i].strip()[:3]] = float(x[i].strip()[11:15])/1000\n",
    "\n",
    "    return frequency\n",
    "\n",
    "def codon_probabilities(rna):\n",
    "    \"\"\"\n",
    "    Given an RNA sequence, simply calculates the proability of\n",
    "    all 3-mers empirically based on the sequence\n",
    "    \"\"\"\n",
    "    d = {\"\".join(codon): 0 for codon in product(\"ACGU\", repeat=3)}\n",
    "    for i in range(len(rna)-2):\n",
    "        x = rna[i : i+3]\n",
    "        d[x] += 1/(len(rna)-2)\n",
    "        \n",
    "    return d\n",
    "        \n",
    "def kullback_leibler(p, q):\n",
    "    import numpy as np\n",
    "    \"\"\"\n",
    "    Computes Kullback-Leibler divergence between two distributions.\n",
    "    Both p and q must be dictionaries from events to probabilities.\n",
    "    The divergence is defined only when q[event] == 0 implies p[event] == 0.\n",
    "    \"\"\"\n",
    "    plist=[]\n",
    "    qlist=[]\n",
    "    pp = sorted(p.items())\n",
    "    for i in range(len(p)):\n",
    "        plist.append(pp[i][1])\n",
    "    qq =sorted(q.items())\n",
    "    for i in range(len(q)):\n",
    "        qlist.append(qq[i][1])\n",
    "    \n",
    "    result = 0\n",
    "    for i in range(len(p)):\n",
    "        if (qlist[i] == 0):\n",
    "            raise ZeroDivisionError\n",
    "            #continue\n",
    "        elif (plist[i] == 0):\n",
    "            continue\n",
    "        else:\n",
    "            result += plist[i]*np.log2(plist[i]/qlist[i])\n",
    "   \n",
    "    return result\n",
    "\n",
    "if __name__ == '__main__':\n",
    "    aas = list(\"*ACDEFGHIKLMNPQRSTVWY\") # List of amino acids\n",
    "    n = 1000\n",
    "    protein = \"\".join(choice(aas, n))    \n",
    "    \n",
    "    protein_to_rna = ProteinToMaxRNA()\n",
    "    rna = protein_to_rna.convert(protein)\n",
    "    # Maybe check that converting back to protein results in the same sequence\n",
    "    pass\n",
    "    # Calculate codon probabilities of the rna sequence\n",
    "    cp_predicted = codon_probabilities(rna) \n",
    "    \n",
    "    # Calculate codon probabilities based on the codon usage table\n",
    "    cp_orig = get_codon_usage_frequency()\n",
    "    \n",
    "    # Create a completely random RNA sequence and get the codon probabilities\n",
    "    rna_aas = list(\"ACGU\") # List of amino acids\n",
    "    n = 1000\n",
    "    random_rna = \"\".join(choice(rna_aas, n))  \n",
    "    cp_uniform = codon_probabilities(random_rna) # placeholder call\n",
    "  \n",
    "    print(\"d(original || predicted) =\", kullback_leibler(cp_orig, cp_predicted))\n",
    "    print(\"d(predicted || original) =\", kullback_leibler(cp_predicted, cp_orig))\n",
    "    print()\n",
    "    print(\"d(original || uniform) =\", kullback_leibler(cp_orig, cp_uniform))\n",
    "    print(\"d(uniform || original) =\", kullback_leibler(cp_uniform, cp_orig))\n",
    "    print()\n",
    "    print(\"d(predicted || uniform) =\", kullback_leibler(cp_predicted, cp_uniform))\n",
    "    print(\"d(uniform || predicted) =\", kullback_leibler(cp_uniform, cp_predicted))"
   ]
  },
  {
   "cell_type": "markdown",
   "metadata": {},
   "source": [
    "### Idea of solution\n",
    "\n",
    "fill in"
   ]
  },
  {
   "cell_type": "markdown",
   "metadata": {},
   "source": [
    "### Discussion\n",
    "\n",
    "fill in"
   ]
  },
  {
   "cell_type": "raw",
   "metadata": {},
   "source": [
    "I have not done extra work. I will not do this."
   ]
  },
  {
   "cell_type": "markdown",
   "metadata": {},
   "source": [
    "## Stationary and equilibrium distributions (extra)\n",
    "\n",
    "Let us consider a Markov chain of order one on the set of nucleotides.\n",
    "Its transition probabilities can be expressed as a $4 \\times 4$ matrix\n",
    "$P=(p_{ij})$, where the element $p_{ij}$ gives the probability of the $j$th nucleotide\n",
    "on the condition the previous nucleotide was the $i$th. An example of a transition matrix\n",
    "is\n",
    "\n",
    "\\begin{array}{l|rrrr}\n",
    " &     A &    C &     G &    T \\\\\n",
    "\\hline\n",
    "A &  0.30 &  0.0 &  0.70 &  0.0 \\\\\n",
    "C &  0.00 &  0.4 &  0.00 &  0.6 \\\\\n",
    "G &  0.35 &  0.0 &  0.65 &  0.0 \\\\\n",
    "T &  0.00 &  0.2 &  0.00 &  0.8 \\\\\n",
    "\\end{array}.\n",
    "\n",
    "A distribution $\\pi=(\\pi_1,\\pi_2,\\pi_3,\\pi_4)$ is called *stationary*, if\n",
    "$\\pi = \\pi P$ (the product here is matrix product).\n",
    "\n",
    "20. Write function ```get_stationary_distributions``` that gets a transition matrix as parameter,\n",
    "  and returns the list of stationary distributions. You can do this with NumPy by\n",
    "  first taking transposition of both sides of the above equation to get equation\n",
    "  $\\pi^T = P^T \\pi^T$. Using numpy.linalg.eig take all eigenvectors related to\n",
    "  eigenvalue 1.0. By normalizing these vectors to sum up to one get the stationary distributions\n",
    "  of the original transition matrix. In the ```main``` function print the stationary distributions\n",
    "  of the above transition matrix."
   ]
  },
  {
   "cell_type": "code",
   "execution_count": 471,
   "metadata": {
    "ExecuteTime": {
     "end_time": "2019-07-08T22:04:23.591644Z",
     "start_time": "2019-07-08T22:04:23.580588Z"
    }
   },
   "outputs": [
    {
     "name": "stdout",
     "output_type": "stream",
     "text": [
      "+0.215, +0.379, +0.395, +0.166\n",
      "-0.029, -0.147, +0.353, -0.091\n"
     ]
    }
   ],
   "source": [
    "def get_stationary_distributions(transition):\n",
    "    \"\"\"\n",
    "    The function get a transition matrix of a degree one Markov chain as parameter.\n",
    "    It returns a list of stationary distributions, in vector form, for that chain.\n",
    "    \"\"\"\n",
    "    return np.random.rand(2, 4) - 0.5\n",
    "    \n",
    "    \n",
    "if __name__ == \"__main__\":\n",
    "    transition=np.array([[0.3, 0, 0.7, 0],\n",
    "                         [0, 0.4, 0, 0.6],\n",
    "                         [0.35, 0, 0.65, 0],\n",
    "                         [0, 0.2, 0, 0.8]])\n",
    "    print(\"\\n\".join(\n",
    "          \", \".join(f\"{pv:+.3f}\" for pv in p) for p in get_stationary_distributions(transition)))"
   ]
  },
  {
   "cell_type": "markdown",
   "metadata": {},
   "source": [
    "### Idea of solution\n"
   ]
  },
  {
   "cell_type": "markdown",
   "metadata": {},
   "source": [
    "### Discussion\n"
   ]
  },
  {
   "cell_type": "markdown",
   "metadata": {},
   "source": [
    "21. Implement the `kl_divergence` function below so that the main guarded code runs properly. Using your modified Markov chain generator generate a nucleotide sequence $s$ of length $10\\;000$. Choose prefixes of $s$ of lengths $1, 10, 100, 1000$, and $10\\;000$. For each of these prefixes find out their nucleotide distribution (of order 0) using your earlier tool. Use 1 as the pseudo count. Then, for each prefix, compute the KL divergence between the initial distribution and the normalized nucleotide distribution."
   ]
  },
  {
   "cell_type": "code",
   "execution_count": 22,
   "metadata": {
    "ExecuteTime": {
     "end_time": "2019-07-08T22:04:23.635060Z",
     "start_time": "2019-07-08T22:04:23.618890Z"
    }
   },
   "outputs": [
    {
     "name": "stdout",
     "output_type": "stream",
     "text": [
      "Transition probabilities are:\n",
      "[[ 0.3   0.    0.7   0.  ]\n",
      " [ 0.    0.4   0.    0.6 ]\n",
      " [ 0.35  0.    0.65  0.  ]\n",
      " [ 0.    0.2   0.    0.8 ]]\n",
      "Stationary distributions:\n",
      "[[ 0.02421173 -0.29026212  0.1389851   0.44623574]\n",
      " [ 0.24261234  0.09071543  0.35909807 -0.47662849]]\n",
      "Using [0.24, 0.09, 0.36, -0.48] as initial distribution\n",
      "\n",
      "KL divergence of stationary distribution prefix of length     1 is 0.60666836\n",
      "KL divergence of stationary distribution prefix of length    10 is 0.71775085\n",
      "KL divergence of stationary distribution prefix of length   100 is 0.38115273\n",
      "KL divergence of stationary distribution prefix of length  1000 is 0.36116144\n",
      "KL divergence of stationary distribution prefix of length 10000 is 0.22844669\n"
     ]
    }
   ],
   "source": [
    "def kl_divergences(initial, transition):\n",
    "    \"\"\"\n",
    "    Calculates the the Kullback-Leibler divergences between empirical distributions\n",
    "    generated using a markov model seeded with an initial distributin and a transition \n",
    "    matrix, and the initial distribution.\n",
    "    Sequences of length [1, 10, 100, 1000, 10000] are generated.\n",
    "    \"\"\"\n",
    "    return zip([1, 10, 100, 1000, 10000], np.random.rand(5))\n",
    "\n",
    "if __name__ == \"__main__\":\n",
    "    transition=np.array([[0.3, 0, 0.7, 0],\n",
    "                         [0, 0.4, 0, 0.6],\n",
    "                         [0.35, 0, 0.65, 0],\n",
    "                         [0, 0.2, 0, 0.8]])\n",
    "    print(\"Transition probabilities are:\")\n",
    "    print(transition)\n",
    "    stationary_distributions = get_stationary_distributions(transition)\n",
    "    print(\"Stationary distributions:\")\n",
    "    print(np.stack(stationary_distributions))\n",
    "    initial = stationary_distributions[1]\n",
    "    print(\"Using [{}] as initial distribution\\n\".format(\", \".join(f\"{v:.2f}\" for v in initial)))\n",
    "    results = kl_divergences(initial, transition)\n",
    "    for prefix_length, divergence in results: # iterate on prefix lengths in order (1, 10, 100...)\n",
    "        print(\"KL divergence of stationary distribution prefix \" \\\n",
    "              \"of length {:5d} is {:.8f}\".format(prefix_length, divergence))"
   ]
  },
  {
   "cell_type": "markdown",
   "metadata": {},
   "source": [
    "### Idea of solution\n",
    "\n",
    "fill in"
   ]
  },
  {
   "cell_type": "markdown",
   "metadata": {},
   "source": [
    "### Discussion\n",
    "fill in"
   ]
  },
  {
   "cell_type": "markdown",
   "metadata": {},
   "source": [
    "22. Implement the following in the ```main``` function.\n",
    "Find the stationary distribution for the following transition matrix:  \n",
    "\n",
    "\\begin{array}{ l | r r r r}\n",
    " & A &     C &     G &     T \\\\\n",
    "\\hline\n",
    "A &  0.30 &  0.10 &  0.50 &  0.10 \\\\\n",
    "C &  0.20 &  0.30 &  0.15 &  0.35 \\\\\n",
    "G &  0.25 &  0.15 &  0.20 &  0.40 \\\\\n",
    "T &  0.35 &  0.20 &  0.40 &  0.05 \\\\\n",
    "\\end{array}\n",
    "\n",
    "Since there is only one stationary distribution, it is called the *equilibrium distribution*.\n",
    "Choose randomly two nucleotide distributions. You can take these from your sleeve or\n",
    "sample them from the Dirichlet distribution. Then for each of these distributions\n",
    "as the initial distribution of the Markov chain, repeat the above experiment.\n",
    "\n",
    "The `main` function should return tuples, where the first element is the (random) initial distribution and the second element contains the results as a list of tuples where the first element is the kl divergence and the second element the empirical nucleotide distribution, for the different prefix lengths.\n",
    "\n",
    "The state distribution should converge to the equilibrium distribution no matter how we\n",
    "start the Markov chain! That is the last line of the tables should have KL-divergence very close to $0$ and an empirical distribution very close to the equilibrium distribution.\n"
   ]
  },
  {
   "cell_type": "code",
   "execution_count": 23,
   "metadata": {
    "ExecuteTime": {
     "end_time": "2019-07-08T22:04:23.681300Z",
     "start_time": "2019-07-08T22:04:23.657345Z"
    }
   },
   "outputs": [
    {
     "name": "stdout",
     "output_type": "stream",
     "text": [
      "Transition probabilities are:\n",
      "[[ 0.3   0.1   0.5   0.1 ]\n",
      " [ 0.2   0.3   0.15  0.35]\n",
      " [ 0.25  0.15  0.2   0.4 ]\n",
      " [ 0.35  0.2   0.4   0.05]]\n",
      "Equilibrium distribution:\n",
      "[ 0.05549613 -0.0618828  -0.3045492   0.11913485]\n",
      "\n",
      "Using [-0.3337754   0.45068768 -0.10300145 -0.20088342] as initial distribution:\n",
      "kl-divergence   empirical distribution\n",
      "0.25023050057   [ 0.2243623   0.15184879 -0.36068593  0.0442362 ]\n",
      "0.85018673369   [-0.27420015 -0.1344076  -0.08342149  0.10517491]\n",
      "0.69016371310   [-0.11457606  0.27115112  0.16359241 -0.1280264 ]\n",
      "0.14692236781   [ 0.07706555  0.23608696  0.01647088 -0.08926859]\n",
      "0.98884289212   [-0.06341222  0.45084425  0.3957673  -0.40553139]\n",
      "\n",
      "Using [-0.14182502  0.21310283  0.21065106  0.45942999] as initial distribution:\n",
      "kl-divergence   empirical distribution\n",
      "0.09700875402   [ 0.35101425 -0.18876535  0.25445247 -0.20776396]\n",
      "0.51559517427   [ 0.31812104 -0.03010157 -0.2113726  -0.49508434]\n",
      "0.92023091580   [ 0.40268876 -0.22995087 -0.42421415 -0.1464154 ]\n",
      "0.32096833450   [ 0.15860567 -0.16145627  0.04025597 -0.3869026 ]\n",
      "0.33771485079   [-0.30140972  0.27013169 -0.49653246 -0.12583137]\n"
     ]
    }
   ],
   "source": [
    "def main(transition, equilibrium_distribution):\n",
    "    vals = list(zip(np.random.rand(10), np.random.rand(10, 4) - 0.5))\n",
    "    return zip(np.random.rand(2, 4) - 0.5, \n",
    "               [vals[:5], vals[5:]])\n",
    "\n",
    "\n",
    "if __name__ == \"__main__\":\n",
    "    transition = np.array([[0.3, 0.1, 0.5, 0.1],\n",
    "                           [0.2, 0.3, 0.15, 0.35],\n",
    "                           [0.25, 0.15, 0.2, 0.4],\n",
    "                           [0.35, 0.2, 0.4, 0.05]])\n",
    "    print(\"Transition probabilities are:\", transition, sep=\"\\n\")\n",
    "    stationary_distributions = get_stationary_distributions(transition)\n",
    "    # Uncomment the below line to check that there actually is only one stationary distribution\n",
    "    # assert len(stationary_distributions) == 1\n",
    "    equilibrium_distribution = stationary_distributions[0]\n",
    "    print(\"Equilibrium distribution:\")\n",
    "    print(equilibrium_distribution)\n",
    "    for initial_distribution, results in main(transition, equilibrium_distribution):\n",
    "        print(\"\\nUsing {} as initial distribution:\".format(initial_distribution))\n",
    "        print(\"kl-divergence   empirical distribution\")\n",
    "        print(\"\\n\".join(\"{:.11f}   {}\".format(di, kl) for di, kl in results))"
   ]
  },
  {
   "cell_type": "markdown",
   "metadata": {},
   "source": [
    "### Idea of solution\n",
    "\n",
    "fill in"
   ]
  },
  {
   "cell_type": "markdown",
   "metadata": {},
   "source": [
    "### Discussion\n",
    "fill in"
   ]
  },
  {
   "cell_type": "code",
   "execution_count": 341,
   "metadata": {},
   "outputs": [
    {
     "name": "stdout",
     "output_type": "stream",
     "text": [
      "UUU F 0.46 17.6 (714298\n",
      "65\n",
      "64 64\n"
     ]
    }
   ],
   "source": [
    "#Test cells\n",
    "def test1():\n",
    "    from collections import defaultdict\n",
    "    s = [('yellow', 1), ('blue', 2), ('yellow', 3), ('blue', 4), ('red', 1)]\n",
    "    d = defaultdict(list)\n",
    "    for k, v in s:\n",
    "        d[k].append(v)\n",
    "    sorted(d.items())\n",
    "#https://www.geeksforgeeks.org/dna-protein-python-3/\n",
    "def test2():\n",
    "    import numpy as np\n",
    "    distribution = dict(zip(\"ACGT\", [0.10, 0.35, 0.15, 0.40]))\n",
    "    b = list(codon_to_prob[x] for x in a['G'])\n",
    "    c = []\n",
    "    c = np.cumsum(b)\n",
    "\n",
    "    a = get_dict_list()\n",
    "    codon_to_prob = get_probabability_dict()\n",
    "    a['G']\n",
    "    dist = dict(zip(a['G'], list(codon_to_prob[x] for x in a['G'])))\n",
    "\n",
    "    cum_range = np.cumsum(list(dist.values()))\n",
    "    keys = list(dist.keys())\n",
    "    x = np.random.uniform(0,1)\n",
    "    print(x)\n",
    "\n",
    "    if (x < cum_range[0]):\n",
    "        output = keys[0]\n",
    "    for i in range(1, len(dist)):\n",
    "        if (x>=cum_range[i-1] and x<cum_range[i]):\n",
    "            output = keys[i]\n",
    "#'G': ['GGU', 'GGC', 'GGA', 'GGG'],\n",
    "#     [0.16 0.5  0.75 1.  ]\n",
    "\n",
    "from collections import deque\n",
    "def test3():\n",
    "    l = \"ATGATATCATCGACGATCTAG\"  \n",
    "    for i in range(len(l)):\n",
    "        s = l[i : i+4]\n",
    "        #print (l[i : i+4])\n",
    "def test4():\n",
    "    for wnd in window(range(5), n=3):\n",
    "        list(wnd)\n",
    "\n",
    "def window(seq, n=2):\n",
    "    it = iter(seq)\n",
    "    win = deque((next(it, None) for _ in range(1)), maxlen=n)\n",
    "    yield win\n",
    "    append = win.append\n",
    "    for e in it:\n",
    "        append(e)\n",
    "        yield win\n",
    "    for _ in range(len(win)-1):\n",
    "        win.popleft()\n",
    "        yield win\n",
    "\n",
    "def trii(x, n):\n",
    "    d={}\n",
    "    for i in range(len(x)):\n",
    "        win = x[i:i+n]\n",
    "        d = {e:win.count(e) for e in set(win)}\n",
    "        yield d\n",
    "\n",
    "def protein():\n",
    "    d = {}\n",
    "    a = []\n",
    "    b = []\n",
    "    c = []\n",
    "    fraction = {}\n",
    "    x = codon_usage_table_text.split(')')\n",
    "    print(x[0])\n",
    "    print(len(x))\n",
    "    for i in range(len(x)-1):\n",
    "        d[x[i].strip()[:3]] = x[i].strip()[4:5]\n",
    "        fraction[x[i].strip()[:3]] = float(x[i].strip()[6:10])\n",
    "        a.append(x[i].strip()[:3])\n",
    "        b.append(x[i].strip()[4:5])\n",
    "        c.append(float(x[i].strip()[6:10]))   \n",
    "    print(len(a), len(b))\n",
    "    return fraction\n",
    "if __name__ == '__main__':\n",
    "    url ='http://www.kazusa.or.jp/codon/cgi-bin/showcodon.cgi?species=9606&aa=1&style=N'\n",
    "    protein()\n",
    "\n"
   ]
  },
  {
   "cell_type": "code",
   "execution_count": null,
   "metadata": {},
   "outputs": [],
   "source": []
  }
 ],
 "metadata": {
  "kernelspec": {
   "display_name": "Python 3",
   "language": "python",
   "name": "python3"
  },
  "language_info": {
   "codemirror_mode": {
    "name": "ipython",
    "version": 3
   },
   "file_extension": ".py",
   "mimetype": "text/x-python",
   "name": "python",
   "nbconvert_exporter": "python",
   "pygments_lexer": "ipython3",
   "version": "3.7.3"
  },
  "varInspector": {
   "cols": {
    "lenName": 16,
    "lenType": 16,
    "lenVar": 40
   },
   "kernels_config": {
    "python": {
     "delete_cmd_postfix": "",
     "delete_cmd_prefix": "del ",
     "library": "var_list.py",
     "varRefreshCmd": "print(var_dic_list())"
    },
    "r": {
     "delete_cmd_postfix": ") ",
     "delete_cmd_prefix": "rm(",
     "library": "var_list.r",
     "varRefreshCmd": "cat(var_dic_list()) "
    }
   },
   "position": {
    "height": "598.85px",
    "left": "1223px",
    "right": "20px",
    "top": "121px",
    "width": "353px"
   },
   "types_to_exclude": [
    "module",
    "function",
    "builtin_function_or_method",
    "instance",
    "_Feature"
   ],
   "window_display": false
  }
 },
 "nbformat": 4,
 "nbformat_minor": 2
}
