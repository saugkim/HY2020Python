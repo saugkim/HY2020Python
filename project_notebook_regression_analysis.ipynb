{
 "cells": [
  {
   "cell_type": "markdown",
   "metadata": {},
   "source": [
    "# Linear regression"
   ]
  },
  {
   "cell_type": "markdown",
   "metadata": {},
   "source": [
    "Import all the modules you will need in this notebook here:"
   ]
  },
  {
   "cell_type": "code",
   "execution_count": 1,
   "metadata": {},
   "outputs": [],
   "source": [
    "# exercise 0\n",
    "# Put your solution here!\n",
    "import pandas as pd\n",
    "import numpy as np\n",
    "import matplotlib.pyplot as plt \n",
    "#%matplotlib inline\n",
    "\n",
    "from sklearn.model_selection import train_test_split\n",
    "from sklearn.model_selection import cross_val_score\n",
    "from sklearn.linear_model import LinearRegression\n",
    "from sklearn.metrics import accuracy_score\n",
    "\n",
    "import statsmodels\n",
    "import statsmodels.api as sm\n",
    "import statsmodels.formula.api as smf\n",
    "\n",
    "# plots a line given an intercept and a slope\n",
    "from statsmodels.graphics.regressionplots import abline_plot\n"
   ]
  },
  {
   "cell_type": "markdown",
   "metadata": {},
   "source": [
    "We continue analysing the `fram` heart disease data.\n",
    "\n",
    "First load the data, use the name `fram` for the DataFrame variable. Make sure that in the data you loaded the column and row headers are in place. Checkout the summary of the variables using the `describe` method."
   ]
  },
  {
   "cell_type": "code",
   "execution_count": 2,
   "metadata": {},
   "outputs": [
    {
     "data": {
      "text/plain": [
       "<bound method NDFrame.describe of         ID     SEX  AGE  FRW  SBP  SBP10  DBP  CHOL  CIG  CHD YRS_CHD  DEATH  \\\n",
       "0     4988  female   57  135  186    NaN  120   150    0    1     pre      7   \n",
       "1     3001  female   60  123  165    NaN  100   167   25    0      16     10   \n",
       "2     5079  female   54  115  140    NaN   90   213    5    0       8      8   \n",
       "3     5162  female   52  102  170    NaN  104   280   15    0      10      7   \n",
       "4     4672  female   45   99  185    NaN  105   326   20    0       8     10   \n",
       "...    ...     ...  ...  ...  ...    ...  ...   ...  ...  ...     ...    ...   \n",
       "1389  4132    male   51  100  160    NaN   98   216   30    0      10      7   \n",
       "1390  5418    male   50   95  174    NaN  106   192    5    0       8      8   \n",
       "1391  6260    male   57   88  144    NaN   96   184   20    0       2      3   \n",
       "1392  5786    male   62   87  156    NaN   90   255    0    0       6      5   \n",
       "1393  6071    male   45   83  156    NaN   90   255   15    0       6      5   \n",
       "\n",
       "      YRS_DTH    CAUSE  \n",
       "0          11  unknown  \n",
       "1          17  unknown  \n",
       "2          13  unknown  \n",
       "3          11  unknown  \n",
       "4          17  unknown  \n",
       "...       ...      ...  \n",
       "1389       11   stroke  \n",
       "1390       13   stroke  \n",
       "1391        3   stroke  \n",
       "1392        7   stroke  \n",
       "1393        7   stroke  \n",
       "\n",
       "[1394 rows x 14 columns]>"
      ]
     },
     "execution_count": 2,
     "metadata": {},
     "output_type": "execute_result"
    }
   ],
   "source": [
    "# exercise 1\n",
    "def get_path(filename):\n",
    "    import sys\n",
    "    import os\n",
    "    prog_name = sys.argv[0]\n",
    "    if os.path.basename(prog_name) == \"__main__.py\":   # Running under TMC\n",
    "        return os.path.join(os.path.dirname(prog_name), \"..\", \"src\", filename)\n",
    "    else:\n",
    "        return filename\n",
    "\n",
    "fname = get_path('fram.txt')\n",
    "columns_ = ['ID', 'SEX', 'AGE', 'FRW', 'SBP', 'SBP10', 'DBP', 'CHOL', 'CIG', 'CHD', 'YRS_CHD', 'DEATH','YRS_DTH', 'CAUSE']\n",
    "fram = pd.read_csv(fname, sep='\\t', index_col=False, usecols=columns_)\n",
    "\n",
    "fram.head()\n",
    "fram.describe()\n",
    "fram.describe"
   ]
  },
  {
   "cell_type": "raw",
   "metadata": {},
   "source": [
    "ID  explanation\n",
    "SEX Gender\n",
    "AGE Age at the start of the study\n",
    "FRW Weight in relation to groups median\n",
    "SBP Systolic Blood Pressure\n",
    "DBP Diastolic Blood Pressure\n",
    "CHOL Cholestherol level\n",
    "CIG Smoking (cigarets per day)"
   ]
  },
  {
   "cell_type": "code",
   "execution_count": 58,
   "metadata": {},
   "outputs": [
    {
     "data": {
      "text/html": [
       "<div>\n",
       "<style scoped>\n",
       "    .dataframe tbody tr th:only-of-type {\n",
       "        vertical-align: middle;\n",
       "    }\n",
       "\n",
       "    .dataframe tbody tr th {\n",
       "        vertical-align: top;\n",
       "    }\n",
       "\n",
       "    .dataframe thead th {\n",
       "        text-align: right;\n",
       "    }\n",
       "</style>\n",
       "<table border=\"1\" class=\"dataframe\">\n",
       "  <thead>\n",
       "    <tr style=\"text-align: right;\">\n",
       "      <th></th>\n",
       "      <th>ID</th>\n",
       "      <th>AGE</th>\n",
       "      <th>FRW</th>\n",
       "      <th>SBP</th>\n",
       "      <th>SBP10</th>\n",
       "      <th>DBP</th>\n",
       "      <th>CHOL</th>\n",
       "      <th>CIG</th>\n",
       "      <th>CHD</th>\n",
       "      <th>DEATH</th>\n",
       "      <th>YRS_DTH</th>\n",
       "    </tr>\n",
       "  </thead>\n",
       "  <tbody>\n",
       "    <tr>\n",
       "      <th>count</th>\n",
       "      <td>1394.000000</td>\n",
       "      <td>1394.000000</td>\n",
       "      <td>1394.000000</td>\n",
       "      <td>1394.000000</td>\n",
       "      <td>767.000000</td>\n",
       "      <td>1394.000000</td>\n",
       "      <td>1394.000000</td>\n",
       "      <td>1394.000000</td>\n",
       "      <td>1394.000000</td>\n",
       "      <td>1394.000000</td>\n",
       "      <td>1394.000000</td>\n",
       "    </tr>\n",
       "    <tr>\n",
       "      <th>mean</th>\n",
       "      <td>4737.184362</td>\n",
       "      <td>52.431133</td>\n",
       "      <td>105.365136</td>\n",
       "      <td>148.086083</td>\n",
       "      <td>148.040417</td>\n",
       "      <td>90.135581</td>\n",
       "      <td>234.644907</td>\n",
       "      <td>8.029412</td>\n",
       "      <td>1.187948</td>\n",
       "      <td>1.700861</td>\n",
       "      <td>16.219512</td>\n",
       "    </tr>\n",
       "    <tr>\n",
       "      <th>std</th>\n",
       "      <td>1073.406896</td>\n",
       "      <td>4.781507</td>\n",
       "      <td>17.752489</td>\n",
       "      <td>28.022062</td>\n",
       "      <td>25.706664</td>\n",
       "      <td>14.226235</td>\n",
       "      <td>46.303822</td>\n",
       "      <td>11.584138</td>\n",
       "      <td>2.615976</td>\n",
       "      <td>3.203132</td>\n",
       "      <td>3.921413</td>\n",
       "    </tr>\n",
       "    <tr>\n",
       "      <th>min</th>\n",
       "      <td>1070.000000</td>\n",
       "      <td>45.000000</td>\n",
       "      <td>52.000000</td>\n",
       "      <td>90.000000</td>\n",
       "      <td>94.000000</td>\n",
       "      <td>50.000000</td>\n",
       "      <td>96.000000</td>\n",
       "      <td>0.000000</td>\n",
       "      <td>0.000000</td>\n",
       "      <td>0.000000</td>\n",
       "      <td>1.000000</td>\n",
       "    </tr>\n",
       "    <tr>\n",
       "      <th>25%</th>\n",
       "      <td>3890.250000</td>\n",
       "      <td>48.000000</td>\n",
       "      <td>94.000000</td>\n",
       "      <td>130.000000</td>\n",
       "      <td>130.000000</td>\n",
       "      <td>80.000000</td>\n",
       "      <td>200.000000</td>\n",
       "      <td>0.000000</td>\n",
       "      <td>0.000000</td>\n",
       "      <td>0.000000</td>\n",
       "      <td>18.000000</td>\n",
       "    </tr>\n",
       "    <tr>\n",
       "      <th>50%</th>\n",
       "      <td>4821.000000</td>\n",
       "      <td>52.000000</td>\n",
       "      <td>103.000000</td>\n",
       "      <td>142.000000</td>\n",
       "      <td>145.000000</td>\n",
       "      <td>90.000000</td>\n",
       "      <td>230.000000</td>\n",
       "      <td>0.000000</td>\n",
       "      <td>0.000000</td>\n",
       "      <td>0.000000</td>\n",
       "      <td>18.000000</td>\n",
       "    </tr>\n",
       "    <tr>\n",
       "      <th>75%</th>\n",
       "      <td>5641.750000</td>\n",
       "      <td>56.000000</td>\n",
       "      <td>114.000000</td>\n",
       "      <td>160.000000</td>\n",
       "      <td>160.000000</td>\n",
       "      <td>98.000000</td>\n",
       "      <td>264.000000</td>\n",
       "      <td>20.000000</td>\n",
       "      <td>0.000000</td>\n",
       "      <td>0.000000</td>\n",
       "      <td>18.000000</td>\n",
       "    </tr>\n",
       "    <tr>\n",
       "      <th>max</th>\n",
       "      <td>6442.000000</td>\n",
       "      <td>62.000000</td>\n",
       "      <td>222.000000</td>\n",
       "      <td>300.000000</td>\n",
       "      <td>264.000000</td>\n",
       "      <td>160.000000</td>\n",
       "      <td>430.000000</td>\n",
       "      <td>60.000000</td>\n",
       "      <td>10.000000</td>\n",
       "      <td>10.000000</td>\n",
       "      <td>18.000000</td>\n",
       "    </tr>\n",
       "  </tbody>\n",
       "</table>\n",
       "</div>"
      ],
      "text/plain": [
       "                ID          AGE          FRW          SBP       SBP10  \\\n",
       "count  1394.000000  1394.000000  1394.000000  1394.000000  767.000000   \n",
       "mean   4737.184362    52.431133   105.365136   148.086083  148.040417   \n",
       "std    1073.406896     4.781507    17.752489    28.022062   25.706664   \n",
       "min    1070.000000    45.000000    52.000000    90.000000   94.000000   \n",
       "25%    3890.250000    48.000000    94.000000   130.000000  130.000000   \n",
       "50%    4821.000000    52.000000   103.000000   142.000000  145.000000   \n",
       "75%    5641.750000    56.000000   114.000000   160.000000  160.000000   \n",
       "max    6442.000000    62.000000   222.000000   300.000000  264.000000   \n",
       "\n",
       "               DBP         CHOL          CIG          CHD        DEATH  \\\n",
       "count  1394.000000  1394.000000  1394.000000  1394.000000  1394.000000   \n",
       "mean     90.135581   234.644907     8.029412     1.187948     1.700861   \n",
       "std      14.226235    46.303822    11.584138     2.615976     3.203132   \n",
       "min      50.000000    96.000000     0.000000     0.000000     0.000000   \n",
       "25%      80.000000   200.000000     0.000000     0.000000     0.000000   \n",
       "50%      90.000000   230.000000     0.000000     0.000000     0.000000   \n",
       "75%      98.000000   264.000000    20.000000     0.000000     0.000000   \n",
       "max     160.000000   430.000000    60.000000    10.000000    10.000000   \n",
       "\n",
       "           YRS_DTH  \n",
       "count  1394.000000  \n",
       "mean     16.219512  \n",
       "std       3.921413  \n",
       "min       1.000000  \n",
       "25%      18.000000  \n",
       "50%      18.000000  \n",
       "75%      18.000000  \n",
       "max      18.000000  "
      ]
     },
     "execution_count": 58,
     "metadata": {},
     "output_type": "execute_result"
    }
   ],
   "source": [
    "fram.describe()"
   ]
  },
  {
   "cell_type": "markdown",
   "metadata": {},
   "source": [
    "Create function `rescale` that takes a Series as parameter. It should center the data and normalize it by dividing\n",
    "by 2$\\sigma$, where $\\sigma$ is the standard deviation. Return the rescaled Series."
   ]
  },
  {
   "cell_type": "code",
   "execution_count": 3,
   "metadata": {},
   "outputs": [],
   "source": [
    "# exercise 2\n",
    "def rescale(s):\n",
    "    return (s - s.mean()) / (2* s.std())\n",
    "\n",
    "#sigma = s.std()\n",
    "#center = (s.max()-s.min())/2 + s.min() \n",
    "#s = (s - center) / (2* s.std())"
   ]
  },
  {
   "cell_type": "markdown",
   "metadata": {},
   "source": [
    "Add to the DataFrame the scaled versions of all the continuous variables (with function `rescale`). Add small letter `s` in front of the original variable name to get the name of the scaled variable. For instance, `AGE` -> `sAGE`."
   ]
  },
  {
   "cell_type": "code",
   "execution_count": 4,
   "metadata": {},
   "outputs": [
    {
     "data": {
      "text/html": [
       "<div>\n",
       "<style scoped>\n",
       "    .dataframe tbody tr th:only-of-type {\n",
       "        vertical-align: middle;\n",
       "    }\n",
       "\n",
       "    .dataframe tbody tr th {\n",
       "        vertical-align: top;\n",
       "    }\n",
       "\n",
       "    .dataframe thead th {\n",
       "        text-align: right;\n",
       "    }\n",
       "</style>\n",
       "<table border=\"1\" class=\"dataframe\">\n",
       "  <thead>\n",
       "    <tr style=\"text-align: right;\">\n",
       "      <th></th>\n",
       "      <th>ID</th>\n",
       "      <th>AGE</th>\n",
       "      <th>FRW</th>\n",
       "      <th>SBP</th>\n",
       "      <th>SBP10</th>\n",
       "      <th>DBP</th>\n",
       "      <th>CHOL</th>\n",
       "      <th>CIG</th>\n",
       "      <th>CHD</th>\n",
       "      <th>DEATH</th>\n",
       "      <th>YRS_DTH</th>\n",
       "      <th>sAGE</th>\n",
       "      <th>sFRW</th>\n",
       "      <th>sSBP</th>\n",
       "      <th>sDBP</th>\n",
       "      <th>sCHOL</th>\n",
       "      <th>sCIG</th>\n",
       "    </tr>\n",
       "  </thead>\n",
       "  <tbody>\n",
       "    <tr>\n",
       "      <th>count</th>\n",
       "      <td>1394.000000</td>\n",
       "      <td>1394.000000</td>\n",
       "      <td>1394.000000</td>\n",
       "      <td>1394.000000</td>\n",
       "      <td>767.000000</td>\n",
       "      <td>1394.000000</td>\n",
       "      <td>1394.000000</td>\n",
       "      <td>1394.000000</td>\n",
       "      <td>1394.000000</td>\n",
       "      <td>1394.000000</td>\n",
       "      <td>1394.000000</td>\n",
       "      <td>1.394000e+03</td>\n",
       "      <td>1.394000e+03</td>\n",
       "      <td>1.394000e+03</td>\n",
       "      <td>1.394000e+03</td>\n",
       "      <td>1.394000e+03</td>\n",
       "      <td>1.394000e+03</td>\n",
       "    </tr>\n",
       "    <tr>\n",
       "      <th>mean</th>\n",
       "      <td>4737.184362</td>\n",
       "      <td>52.431133</td>\n",
       "      <td>105.365136</td>\n",
       "      <td>148.086083</td>\n",
       "      <td>148.040417</td>\n",
       "      <td>90.135581</td>\n",
       "      <td>234.644907</td>\n",
       "      <td>8.029412</td>\n",
       "      <td>1.187948</td>\n",
       "      <td>1.700861</td>\n",
       "      <td>16.219512</td>\n",
       "      <td>1.288623e-16</td>\n",
       "      <td>-1.162787e-17</td>\n",
       "      <td>-8.123583e-17</td>\n",
       "      <td>1.358435e-16</td>\n",
       "      <td>-3.038379e-17</td>\n",
       "      <td>-2.352733e-15</td>\n",
       "    </tr>\n",
       "    <tr>\n",
       "      <th>std</th>\n",
       "      <td>1073.406896</td>\n",
       "      <td>4.781507</td>\n",
       "      <td>17.752489</td>\n",
       "      <td>28.022062</td>\n",
       "      <td>25.706664</td>\n",
       "      <td>14.226235</td>\n",
       "      <td>46.303822</td>\n",
       "      <td>11.584138</td>\n",
       "      <td>2.615976</td>\n",
       "      <td>3.203132</td>\n",
       "      <td>3.921413</td>\n",
       "      <td>5.000000e-01</td>\n",
       "      <td>5.000000e-01</td>\n",
       "      <td>5.000000e-01</td>\n",
       "      <td>5.000000e-01</td>\n",
       "      <td>5.000000e-01</td>\n",
       "      <td>5.000000e-01</td>\n",
       "    </tr>\n",
       "    <tr>\n",
       "      <th>min</th>\n",
       "      <td>1070.000000</td>\n",
       "      <td>45.000000</td>\n",
       "      <td>52.000000</td>\n",
       "      <td>90.000000</td>\n",
       "      <td>94.000000</td>\n",
       "      <td>50.000000</td>\n",
       "      <td>96.000000</td>\n",
       "      <td>0.000000</td>\n",
       "      <td>0.000000</td>\n",
       "      <td>0.000000</td>\n",
       "      <td>1.000000</td>\n",
       "      <td>-7.770703e-01</td>\n",
       "      <td>-1.503033e+00</td>\n",
       "      <td>-1.036435e+00</td>\n",
       "      <td>-1.410618e+00</td>\n",
       "      <td>-1.497122e+00</td>\n",
       "      <td>-3.465693e-01</td>\n",
       "    </tr>\n",
       "    <tr>\n",
       "      <th>25%</th>\n",
       "      <td>3890.250000</td>\n",
       "      <td>48.000000</td>\n",
       "      <td>94.000000</td>\n",
       "      <td>130.000000</td>\n",
       "      <td>130.000000</td>\n",
       "      <td>80.000000</td>\n",
       "      <td>200.000000</td>\n",
       "      <td>0.000000</td>\n",
       "      <td>0.000000</td>\n",
       "      <td>0.000000</td>\n",
       "      <td>18.000000</td>\n",
       "      <td>-4.633616e-01</td>\n",
       "      <td>-3.200998e-01</td>\n",
       "      <td>-3.227115e-01</td>\n",
       "      <td>-3.562285e-01</td>\n",
       "      <td>-3.741042e-01</td>\n",
       "      <td>-3.465693e-01</td>\n",
       "    </tr>\n",
       "    <tr>\n",
       "      <th>50%</th>\n",
       "      <td>4821.000000</td>\n",
       "      <td>52.000000</td>\n",
       "      <td>103.000000</td>\n",
       "      <td>142.000000</td>\n",
       "      <td>145.000000</td>\n",
       "      <td>90.000000</td>\n",
       "      <td>230.000000</td>\n",
       "      <td>0.000000</td>\n",
       "      <td>0.000000</td>\n",
       "      <td>0.000000</td>\n",
       "      <td>18.000000</td>\n",
       "      <td>-4.508343e-02</td>\n",
       "      <td>-6.661422e-02</td>\n",
       "      <td>-1.085945e-01</td>\n",
       "      <td>-4.765177e-03</td>\n",
       "      <td>-5.015684e-02</td>\n",
       "      <td>-3.465693e-01</td>\n",
       "    </tr>\n",
       "    <tr>\n",
       "      <th>75%</th>\n",
       "      <td>5641.750000</td>\n",
       "      <td>56.000000</td>\n",
       "      <td>114.000000</td>\n",
       "      <td>160.000000</td>\n",
       "      <td>160.000000</td>\n",
       "      <td>98.000000</td>\n",
       "      <td>264.000000</td>\n",
       "      <td>20.000000</td>\n",
       "      <td>0.000000</td>\n",
       "      <td>0.000000</td>\n",
       "      <td>18.000000</td>\n",
       "      <td>3.731948e-01</td>\n",
       "      <td>2.432015e-01</td>\n",
       "      <td>2.125810e-01</td>\n",
       "      <td>2.764055e-01</td>\n",
       "      <td>3.169835e-01</td>\n",
       "      <td>5.166802e-01</td>\n",
       "    </tr>\n",
       "    <tr>\n",
       "      <th>max</th>\n",
       "      <td>6442.000000</td>\n",
       "      <td>62.000000</td>\n",
       "      <td>222.000000</td>\n",
       "      <td>300.000000</td>\n",
       "      <td>264.000000</td>\n",
       "      <td>160.000000</td>\n",
       "      <td>430.000000</td>\n",
       "      <td>60.000000</td>\n",
       "      <td>10.000000</td>\n",
       "      <td>10.000000</td>\n",
       "      <td>18.000000</td>\n",
       "      <td>1.000612e+00</td>\n",
       "      <td>3.285029e+00</td>\n",
       "      <td>2.710613e+00</td>\n",
       "      <td>2.455478e+00</td>\n",
       "      <td>2.109492e+00</td>\n",
       "      <td>2.243179e+00</td>\n",
       "    </tr>\n",
       "  </tbody>\n",
       "</table>\n",
       "</div>"
      ],
      "text/plain": [
       "                ID          AGE          FRW          SBP       SBP10  \\\n",
       "count  1394.000000  1394.000000  1394.000000  1394.000000  767.000000   \n",
       "mean   4737.184362    52.431133   105.365136   148.086083  148.040417   \n",
       "std    1073.406896     4.781507    17.752489    28.022062   25.706664   \n",
       "min    1070.000000    45.000000    52.000000    90.000000   94.000000   \n",
       "25%    3890.250000    48.000000    94.000000   130.000000  130.000000   \n",
       "50%    4821.000000    52.000000   103.000000   142.000000  145.000000   \n",
       "75%    5641.750000    56.000000   114.000000   160.000000  160.000000   \n",
       "max    6442.000000    62.000000   222.000000   300.000000  264.000000   \n",
       "\n",
       "               DBP         CHOL          CIG          CHD        DEATH  \\\n",
       "count  1394.000000  1394.000000  1394.000000  1394.000000  1394.000000   \n",
       "mean     90.135581   234.644907     8.029412     1.187948     1.700861   \n",
       "std      14.226235    46.303822    11.584138     2.615976     3.203132   \n",
       "min      50.000000    96.000000     0.000000     0.000000     0.000000   \n",
       "25%      80.000000   200.000000     0.000000     0.000000     0.000000   \n",
       "50%      90.000000   230.000000     0.000000     0.000000     0.000000   \n",
       "75%      98.000000   264.000000    20.000000     0.000000     0.000000   \n",
       "max     160.000000   430.000000    60.000000    10.000000    10.000000   \n",
       "\n",
       "           YRS_DTH          sAGE          sFRW          sSBP          sDBP  \\\n",
       "count  1394.000000  1.394000e+03  1.394000e+03  1.394000e+03  1.394000e+03   \n",
       "mean     16.219512  1.288623e-16 -1.162787e-17 -8.123583e-17  1.358435e-16   \n",
       "std       3.921413  5.000000e-01  5.000000e-01  5.000000e-01  5.000000e-01   \n",
       "min       1.000000 -7.770703e-01 -1.503033e+00 -1.036435e+00 -1.410618e+00   \n",
       "25%      18.000000 -4.633616e-01 -3.200998e-01 -3.227115e-01 -3.562285e-01   \n",
       "50%      18.000000 -4.508343e-02 -6.661422e-02 -1.085945e-01 -4.765177e-03   \n",
       "75%      18.000000  3.731948e-01  2.432015e-01  2.125810e-01  2.764055e-01   \n",
       "max      18.000000  1.000612e+00  3.285029e+00  2.710613e+00  2.455478e+00   \n",
       "\n",
       "              sCHOL          sCIG  \n",
       "count  1.394000e+03  1.394000e+03  \n",
       "mean  -3.038379e-17 -2.352733e-15  \n",
       "std    5.000000e-01  5.000000e-01  \n",
       "min   -1.497122e+00 -3.465693e-01  \n",
       "25%   -3.741042e-01 -3.465693e-01  \n",
       "50%   -5.015684e-02 -3.465693e-01  \n",
       "75%    3.169835e-01  5.166802e-01  \n",
       "max    2.109492e+00  2.243179e+00  "
      ]
     },
     "execution_count": 4,
     "metadata": {},
     "output_type": "execute_result"
    }
   ],
   "source": [
    "# exercise 3\n",
    "# Put your solution here!\n",
    "#Renormalize to ease interpretation of the model parameters\n",
    "fram[\"sAGE\"] = rescale(fram.AGE)\n",
    "fram[\"sFRW\"] = rescale(fram.FRW)\n",
    "fram[\"sSBP\"] = rescale(fram.SBP)\n",
    "fram[\"sDBP\"] = rescale(fram.DBP)\n",
    "fram[\"sCHOL\"] = rescale(fram.CHOL)\n",
    "fram[\"sCIG\"] = rescale(fram.CIG)\n",
    "fram.describe()\n",
    "# Note: No need to scale the variable SEX"
   ]
  },
  {
   "cell_type": "markdown",
   "metadata": {},
   "source": [
    "Form a model that predicts systolic blood pressure using weight, gender, and cholesterol level as explanatory variables. Store the fitted model in variable named `fit`."
   ]
  },
  {
   "cell_type": "code",
   "execution_count": 64,
   "metadata": {
    "scrolled": true
   },
   "outputs": [
    {
     "name": "stdout",
     "output_type": "stream",
     "text": [
      "                            OLS Regression Results                            \n",
      "==============================================================================\n",
      "Dep. Variable:                    SBP   R-squared:                       0.125\n",
      "Model:                            OLS   Adj. R-squared:                  0.123\n",
      "Method:                 Least Squares   F-statistic:                     66.37\n",
      "Date:                Wed, 22 Jul 2020   Prob (F-statistic):           4.13e-40\n",
      "Time:                        12:54:18   Log-Likelihood:                -6530.4\n",
      "No. Observations:                1394   AIC:                         1.307e+04\n",
      "Df Residuals:                    1390   BIC:                         1.309e+04\n",
      "Df Model:                           3                                         \n",
      "Covariance Type:            nonrobust                                         \n",
      "===============================================================================\n",
      "                  coef    std err          t      P>|t|      [0.025      0.975]\n",
      "-------------------------------------------------------------------------------\n",
      "Intercept     150.0199      0.985    152.336      0.000     148.088     151.952\n",
      "SEX[T.male]    -4.0659      1.451     -2.803      0.005      -6.912      -1.220\n",
      "sFRW           17.7205      1.426     12.431      0.000      14.924      20.517\n",
      "sCHOL           4.9169      1.431      3.436      0.001       2.110       7.724\n",
      "==============================================================================\n",
      "Omnibus:                      327.612   Durbin-Watson:                   1.774\n",
      "Prob(Omnibus):                  0.000   Jarque-Bera (JB):              843.676\n",
      "Skew:                           1.237   Prob(JB):                    6.28e-184\n",
      "Kurtosis:                       5.899   Cond. No.                         2.79\n",
      "==============================================================================\n",
      "\n",
      "Warnings:\n",
      "[1] Standard Errors assume that the covariance matrix of the errors is correctly specified.\n"
     ]
    }
   ],
   "source": [
    "# exercise 4\n",
    "# Put your solution here!\n",
    "\n",
    "fit = smf.ols('SBP ~ sFRW + SEX + sCHOL', data=fram).fit()\n",
    "print(fit.summary())"
   ]
  },
  {
   "cell_type": "markdown",
   "metadata": {},
   "source": [
    "Add the variable AGE to the model and inspect the estimates of the coefficients using the `summary` method of the fitted model. Again use the name `fit` for the fitted model. (From now on assume that we always use the name `fit` for the variable of the fitted model.)"
   ]
  },
  {
   "cell_type": "code",
   "execution_count": 65,
   "metadata": {},
   "outputs": [
    {
     "name": "stdout",
     "output_type": "stream",
     "text": [
      "                            OLS Regression Results                            \n",
      "==============================================================================\n",
      "Dep. Variable:                    SBP   R-squared:                       0.146\n",
      "Model:                            OLS   Adj. R-squared:                  0.144\n",
      "Method:                 Least Squares   F-statistic:                     59.39\n",
      "Date:                Wed, 22 Jul 2020   Prob (F-statistic):           2.44e-46\n",
      "Time:                        12:55:15   Log-Likelihood:                -6513.6\n",
      "No. Observations:                1394   AIC:                         1.304e+04\n",
      "Df Residuals:                    1389   BIC:                         1.306e+04\n",
      "Df Model:                           4                                         \n",
      "Covariance Type:            nonrobust                                         \n",
      "===============================================================================\n",
      "                  coef    std err          t      P>|t|      [0.025      0.975]\n",
      "-------------------------------------------------------------------------------\n",
      "Intercept     150.1695      0.974    154.221      0.000     148.259     152.080\n",
      "SEX[T.male]    -4.3805      1.435     -3.053      0.002      -7.195      -1.566\n",
      "sFRW           16.9771      1.415     11.999      0.000      14.202      19.753\n",
      "sCHOL           4.2696      1.419      3.009      0.003       1.486       7.053\n",
      "sAGE            8.1332      1.400      5.810      0.000       5.387      10.879\n",
      "==============================================================================\n",
      "Omnibus:                      321.087   Durbin-Watson:                   1.807\n",
      "Prob(Omnibus):                  0.000   Jarque-Bera (JB):              840.955\n",
      "Skew:                           1.206   Prob(JB):                    2.45e-183\n",
      "Kurtosis:                       5.944   Cond. No.                         2.82\n",
      "==============================================================================\n",
      "\n",
      "Warnings:\n",
      "[1] Standard Errors assume that the covariance matrix of the errors is correctly specified.\n"
     ]
    }
   ],
   "source": [
    "# exercise 5\n",
    "# Put your solution here!\n",
    "fit = smf.ols('SBP ~ sFRW+SEX+sCHOL+sAGE', data=fram).fit()\n",
    "print(fit.summary())"
   ]
  },
  {
   "cell_type": "markdown",
   "metadata": {},
   "source": [
    "How much does the inclusion of age increase the explanatory power of the model? Which variables explain the variance of the target variable most?\n",
    "\n",
    "***\n",
    "\n",
    "Your solution here\n",
    "\n",
    "The weight(sFRW) is the most important factor, and next is age(sAGE)."
   ]
  },
  {
   "cell_type": "markdown",
   "metadata": {},
   "source": [
    "Try to add to the model all the interactions with other variables. "
   ]
  },
  {
   "cell_type": "code",
   "execution_count": 237,
   "metadata": {},
   "outputs": [
    {
     "name": "stdout",
     "output_type": "stream",
     "text": [
      "                            OLS Regression Results                            \n",
      "==============================================================================\n",
      "Dep. Variable:                    SBP   R-squared:                       0.151\n",
      "Model:                            OLS   Adj. R-squared:                  0.144\n",
      "Method:                 Least Squares   F-statistic:                     24.52\n",
      "Date:                Wed, 22 Jul 2020   Prob (F-statistic):           4.92e-43\n",
      "Time:                        21:05:07   Log-Likelihood:                -6509.9\n",
      "No. Observations:                1394   AIC:                         1.304e+04\n",
      "Df Residuals:                    1383   BIC:                         1.310e+04\n",
      "Df Model:                          10                                         \n",
      "Covariance Type:            nonrobust                                         \n",
      "=====================================================================================\n",
      "                        coef    std err          t      P>|t|      [0.025      0.975]\n",
      "-------------------------------------------------------------------------------------\n",
      "Intercept           150.5439      1.001    150.355      0.000     148.580     152.508\n",
      "SEX[T.male]          -4.7309      1.451     -3.261      0.001      -7.577      -1.885\n",
      "sFRW                 16.6450      1.723      9.660      0.000      13.265      20.025\n",
      "sFRW:SEX[T.male]      1.6673      3.088      0.540      0.589      -4.390       7.725\n",
      "sCHOL                 3.6181      1.878      1.926      0.054      -0.066       7.302\n",
      "SEX[T.male]:sCHOL     1.0231      2.933      0.349      0.727      -4.730       6.776\n",
      "sAGE                 10.2189      2.003      5.101      0.000       6.289      14.149\n",
      "SEX[T.male]:sAGE     -4.2923      2.886     -1.488      0.137      -9.953       1.368\n",
      "sFRW:sCHOL            4.9729      2.718      1.829      0.068      -0.359      10.305\n",
      "sFRW:sAGE            -2.0866      2.803     -0.744      0.457      -7.585       3.412\n",
      "sCHOL:sAGE           -4.7564      3.044     -1.563      0.118     -10.728       1.215\n",
      "==============================================================================\n",
      "Omnibus:                      313.112   Durbin-Watson:                   1.798\n",
      "Prob(Omnibus):                  0.000   Jarque-Bera (JB):              802.290\n",
      "Skew:                           1.185   Prob(JB):                    6.10e-175\n",
      "Kurtosis:                       5.863   Cond. No.                         6.02\n",
      "==============================================================================\n",
      "\n",
      "Warnings:\n",
      "[1] Standard Errors assume that the covariance matrix of the errors is correctly specified.\n"
     ]
    }
   ],
   "source": [
    "# exercise 6\n",
    "# Put your solution here!\n",
    "fit = smf.ols('SBP ~ sFRW + SEX + sCHOL + sAGE + sFRW:SEX + sFRW:sCHOL + sFRW:sAGE + SEX:sCHOL + SEX:sAGE + sCHOL:sAGE', data=fram).fit()\n",
    "print(fit.summary())"
   ]
  },
  {
   "cell_type": "markdown",
   "metadata": {},
   "source": [
    "Then visualize the model as the function of weight for the youngest (sAGE=-1.0), middle aged (sAGE=0.0), and oldest (sAGE=1.0) women while assuming the background variables to be centered. Remember to consider the changes in the intercept and in the regression coefficient caused by age. Visualize both the data points and the fitted lines."
   ]
  },
  {
   "cell_type": "code",
   "execution_count": 239,
   "metadata": {},
   "outputs": [
    {
     "data": {
      "image/png": "[encoded data removed]",
      "text/plain": [
       "<Figure size 432x288 with 1 Axes>"
      ]
     },
     "metadata": {
      "needs_background": "light"
     },
     "output_type": "display_data"
    }
   ],
   "source": [
    "# exercise 7\n",
    "# Put your solution here!\n",
    "\n",
    "p=fit.params\n",
    "fram[fram.SEX==\"female\"].plot.scatter(\"sFRW\", \"SBP\")\n",
    "abline_plot(intercept=p.Intercept - p[\"sAGE\"], slope=p.sFRW - p[\"sFRW:sAGE\"],ax=plt.gca(), color=\"blue\", label=\"youngest\")\n",
    "abline_plot(intercept=p.Intercept, slope=p.sFRW,ax=plt.gca(), color=\"magenta\", label=\"middle aged\")\n",
    "abline_plot(intercept=p.Intercept + p[\"sAGE\"], slope=p.sFRW + p[\"sFRW:sAGE\"],ax=plt.gca(), color=\"red\", label=\"oldest\")\n",
    "plt.legend();"
   ]
  },
  {
   "cell_type": "markdown",
   "metadata": {},
   "source": [
    "How does the dependence of blood pressure on weight change as a person gets older?\n",
    "***\n",
    "\n",
    "Your solution here.\n",
    "\n",
    "elderly peopls has higher SBP for whole weight range, but younger people blood pressure has more dependency on weight change,"
   ]
  },
  {
   "cell_type": "markdown",
   "metadata": {},
   "source": [
    "### Even more accurate model\n",
    "\n",
    "Include the background variable `sCIG` from the data and its interactions. Visualize the model for systolic blood pressure as the function of the most important explanatory variable. Visualize separate lines for the small (-1.0), average (0.0), and large (1.0) values of `sCHOL`. Other variables can be assumed to be at their mean value."
   ]
  },
  {
   "cell_type": "code",
   "execution_count": 240,
   "metadata": {},
   "outputs": [
    {
     "name": "stdout",
     "output_type": "stream",
     "text": [
      "                            OLS Regression Results                            \n",
      "==============================================================================\n",
      "Dep. Variable:                    SBP   R-squared:                       0.152\n",
      "Model:                            OLS   Adj. R-squared:                  0.143\n",
      "Method:                 Least Squares   F-statistic:                     16.50\n",
      "Date:                Wed, 22 Jul 2020   Prob (F-statistic):           2.99e-40\n",
      "Time:                        21:18:06   Log-Likelihood:                -6508.6\n",
      "No. Observations:                1394   AIC:                         1.305e+04\n",
      "Df Residuals:                    1378   BIC:                         1.313e+04\n",
      "Df Model:                          15                                         \n",
      "Covariance Type:            nonrobust                                         \n",
      "=====================================================================================\n",
      "                        coef    std err          t      P>|t|      [0.025      0.975]\n",
      "-------------------------------------------------------------------------------------\n",
      "Intercept           151.3182      1.160    130.456      0.000     149.043     153.594\n",
      "SEX[T.male]          -5.3834      1.598     -3.368      0.001      -8.519      -2.248\n",
      "sFRW                 17.6415      1.866      9.455      0.000      13.981      21.302\n",
      "sFRW:SEX[T.male]     -0.1140      3.441     -0.033      0.974      -6.865       6.637\n",
      "sCHOL                 3.2957      1.965      1.677      0.094      -0.559       7.151\n",
      "SEX[T.male]:sCHOL     1.4369      3.142      0.457      0.648      -4.727       7.600\n",
      "sAGE                 10.3615      2.119      4.890      0.000       6.205      14.518\n",
      "SEX[T.male]:sAGE     -4.4248      3.179     -1.392      0.164     -10.661       1.811\n",
      "sCIG                  3.7733      3.106      1.215      0.225      -2.319       9.865\n",
      "SEX[T.male]:sCIG     -3.9094      3.599     -1.086      0.278     -10.970       3.151\n",
      "sFRW:sCHOL            4.8912      2.735      1.788      0.074      -0.475      10.257\n",
      "sFRW:sAGE            -1.8501      2.848     -0.650      0.516      -7.437       3.737\n",
      "sFRW:sCIG             3.6765      3.373      1.090      0.276      -2.941      10.294\n",
      "sCHOL:sAGE           -4.8509      3.091     -1.569      0.117     -10.914       1.212\n",
      "sCHOL:sCIG           -1.6344      3.368     -0.485      0.628      -8.242       4.973\n",
      "sAGE:sCIG            -0.3247      3.143     -0.103      0.918      -6.490       5.840\n",
      "==============================================================================\n",
      "Omnibus:                      303.518   Durbin-Watson:                   1.802\n",
      "Prob(Omnibus):                  0.000   Jarque-Bera (JB):              750.095\n",
      "Skew:                           1.164   Prob(JB):                    1.32e-163\n",
      "Kurtosis:                       5.738   Cond. No.                         7.93\n",
      "==============================================================================\n",
      "\n",
      "Warnings:\n",
      "[1] Standard Errors assume that the covariance matrix of the errors is correctly specified.\n"
     ]
    },
    {
     "data": {
      "image/png": "[encoded data removed]",
      "text/plain": [
       "<Figure size 432x288 with 1 Axes>"
      ]
     },
     "metadata": {
      "needs_background": "light"
     },
     "output_type": "display_data"
    }
   ],
   "source": [
    "# exercise 8\n",
    "# Put your solution here!\n",
    "fit = smf.ols('SBP ~ sFRW + SEX + sCHOL + sAGE + sCIG+ sFRW:SEX + sFRW:sCHOL + sFRW:sAGE + sFRW:sCIG + SEX:sCHOL + SEX:sAGE + SEX:sCIG + sCHOL:sAGE + sCHOL:sCIG + sAGE:sCIG', data=fram).fit()\n",
    "print(fit.summary())\n",
    "\n",
    "p=fit.params\n",
    "fram[fram.SEX==\"female\"].plot.scatter(\"sFRW\", \"SBP\")\n",
    "abline_plot(intercept=p.Intercept - p[\"sCHOL\"], slope=p.sFRW - p[\"sFRW:sCHOL\"],ax=plt.gca(), color=\"blue\", label=\"low Chol\")\n",
    "abline_plot(intercept=p.Intercept, slope=p.sFRW,ax=plt.gca(), color=\"magenta\", label=\"mid chol\")\n",
    "abline_plot(intercept=p.Intercept + p[\"sCHOL\"], slope=p.sFRW + p[\"sFRW:sCHOL\"],ax=plt.gca(), color=\"red\", label=\"high Chol\")\n",
    "plt.legend();\n",
    "\n"
   ]
  },
  {
   "cell_type": "markdown",
   "metadata": {},
   "source": [
    "How does the model and its accuracy look?\n",
    "\n",
    "***\n",
    "\n",
    "Your solution here.\n",
    "\n",
    "***"
   ]
  },
  {
   "cell_type": "markdown",
   "metadata": {},
   "source": [
    "# Logistic regression"
   ]
  },
  {
   "cell_type": "code",
   "execution_count": 95,
   "metadata": {},
   "outputs": [],
   "source": [
    "def logistic(x):\n",
    "    return 1.0 / (1.0 + np.exp(-x))"
   ]
  },
  {
   "cell_type": "code",
   "execution_count": 260,
   "metadata": {},
   "outputs": [
    {
     "data": {
      "text/plain": [
       "0    1\n",
       "1    1\n",
       "2    1\n",
       "3    1\n",
       "4    1\n",
       "Name: HIGH_BP, dtype: int64"
      ]
     },
     "execution_count": 260,
     "metadata": {},
     "output_type": "execute_result"
    }
   ],
   "source": [
    "fram[\"HIGH_BP\"] = (fram.SBP >= 140) | (fram.DBP >= 90)\n",
    "fram.HIGH_BP = fram.HIGH_BP.map(int)\n",
    "fram.HIGH_BP.astype('int64')\n",
    "fram.HIGH_BP.head()"
   ]
  },
  {
   "cell_type": "code",
   "execution_count": 100,
   "metadata": {},
   "outputs": [
    {
     "data": {
      "text/plain": [
       "1    906\n",
       "0    488\n",
       "Name: HIGH_BP, dtype: int64"
      ]
     },
     "execution_count": 100,
     "metadata": {},
     "output_type": "execute_result"
    }
   ],
   "source": [
    "fram.HIGH_BP.value_counts()"
   ]
  },
  {
   "cell_type": "markdown",
   "metadata": {},
   "source": [
    "We will continue predicting high blood pressure by taking in some continuous background variables, such as the age."
   ]
  },
  {
   "cell_type": "code",
   "execution_count": 109,
   "metadata": {},
   "outputs": [
    {
     "name": "stdout",
     "output_type": "stream",
     "text": [
      "                 Generalized Linear Model Regression Results                  \n",
      "==============================================================================\n",
      "Dep. Variable:                HIGH_BP   No. Observations:                 1394\n",
      "Model:                            GLM   Df Residuals:                     1392\n",
      "Model Family:                Binomial   Df Model:                            1\n",
      "Link Function:                  logit   Scale:                          1.0000\n",
      "Method:                          IRLS   Log-Likelihood:                -858.64\n",
      "Date:                Wed, 22 Jul 2020   Deviance:                       1717.3\n",
      "Time:                        16:12:38   Pearson chi2:                 1.39e+03\n",
      "No. Iterations:                     4                                         \n",
      "Covariance Type:            nonrobust                                         \n",
      "==============================================================================\n",
      "                 coef    std err          z      P>|z|      [0.025      0.975]\n",
      "------------------------------------------------------------------------------\n",
      "Intercept     -2.8912      0.404     -7.158      0.000      -3.683      -2.100\n",
      "FRW            0.0339      0.004      8.650      0.000       0.026       0.042\n",
      "==============================================================================\n"
     ]
    }
   ],
   "source": [
    "fit = smf.glm(formula=\"HIGH_BP ~ FRW\", data=fram,family=sm.families.Binomial()).fit()\n",
    "print(fit.summary())"
   ]
  },
  {
   "cell_type": "markdown",
   "metadata": {},
   "source": [
    "Recreate the model `HIGH_BP ~ sFRW + SEX + SEX:sFRW` presented in the introduction. Make sure, that you get the same results. Use name `fit` for the fitted model. Compute and store the error rate into variable `error_rate_orig`."
   ]
  },
  {
   "cell_type": "code",
   "execution_count": 259,
   "metadata": {},
   "outputs": [
    {
     "name": "stdout",
     "output_type": "stream",
     "text": [
      "int64\n",
      "                 Generalized Linear Model Regression Results                  \n",
      "==============================================================================\n",
      "Dep. Variable:                HIGH_BP   No. Observations:                 1394\n",
      "Model:                            GLM   Df Residuals:                     1390\n",
      "Model Family:                Binomial   Df Model:                            3\n",
      "Link Function:                  logit   Scale:                          1.0000\n",
      "Method:                          IRLS   Log-Likelihood:                -856.87\n",
      "Date:                Wed, 22 Jul 2020   Deviance:                       1713.7\n",
      "Time:                        22:36:21   Pearson chi2:                 1.39e+03\n",
      "No. Iterations:                     4                                         \n",
      "Covariance Type:            nonrobust                                         \n",
      "====================================================================================\n",
      "                       coef    std err          z      P>|z|      [0.025      0.975]\n",
      "------------------------------------------------------------------------------------\n",
      "Intercept            0.7631      0.082      9.266      0.000       0.602       0.925\n",
      "SEX[T.male]         -0.1624      0.120     -1.350      0.177      -0.398       0.073\n",
      "sFRW                 1.0738      0.176      6.095      0.000       0.728       1.419\n",
      "SEX[T.male]:sFRW     0.2709      0.287      0.943      0.346      -0.292       0.834\n",
      "====================================================================================\n",
      "0.35581061692969873\n"
     ]
    },
    {
     "data": {
      "text/plain": [
       "Intercept           0.763144\n",
       "SEX[T.male]        -0.162367\n",
       "sFRW                1.073810\n",
       "SEX[T.male]:sFRW    0.270900\n",
       "dtype: float64"
      ]
     },
     "execution_count": 259,
     "metadata": {},
     "output_type": "execute_result"
    }
   ],
   "source": [
    "# exercise 9\n",
    "# Put your solution here!\n",
    "fram[\"HIGH_BP\"] = (fram.SBP >= 140) | (fram.DBP >= 90)\n",
    "fram.HIGH_BP = fram.HIGH_BP.map(int)\n",
    "fram.HIGH_BP.astype('int64')\n",
    "print(fram.HIGH_BP.dtypes)\n",
    "fram.HIGH_BP.head()\n",
    "\n",
    "fit = smf.glm(formula=\"HIGH_BP ~ sFRW + SEX + SEX:sFRW\", data=fram,family=sm.families.Binomial()).fit()\n",
    "print(fit.summary())\n",
    "\n",
    "error_rate_orig = np.mean( ((fit.fittedvalues < 0.5) & fram.HIGH_BP) | ((fit.fittedvalues > 0.5) & ~fram.HIGH_BP) )\n",
    "print(error_rate_orig)\n",
    "\n",
    "fit.params"
   ]
  },
  {
   "cell_type": "code",
   "execution_count": 115,
   "metadata": {},
   "outputs": [
    {
     "name": "stdout",
     "output_type": "stream",
     "text": [
      "Intercept           0.763144\n",
      "SEX[T.male]        -0.162367\n",
      "sFRW                1.073810\n",
      "SEX[T.male]:sFRW    0.270900\n",
      "dtype: float64\n"
     ]
    },
    {
     "data": {
      "image/png": "[encoded data removed]",
      "text/plain": [
       "<Figure size 432x288 with 1 Axes>"
      ]
     },
     "metadata": {
      "needs_background": "light"
     },
     "output_type": "display_data"
    }
   ],
   "source": [
    "plt.scatter(fram.sFRW, fram.HIGH_BP, marker=\"d\")\n",
    "X = np.linspace(-2, 4, 100)\n",
    "p = fit.params\n",
    "print(p)\n",
    "plt.plot(X, logistic(p.sFRW*X + p.Intercept), color=\"red\", label=\"female\")\n",
    "plt.plot(X, logistic(X*(p['sFRW'] + p[\"SEX[T.male]:sFRW\"]) + p[\"SEX[T.male]\"] + p.Intercept), color=\"blue\", label=\"male\")\n",
    "plt.xlabel(\"Weight\")\n",
    "plt.ylabel(\"Pr(Has high BP)\")\n",
    "plt.legend();"
   ]
  },
  {
   "cell_type": "markdown",
   "metadata": {},
   "source": [
    "Add the `sAGE` variable and its interactions. Check the prediction accuracy of the model and compare it to the previous model. Store the prediction accuracy to variable `error_rate`."
   ]
  },
  {
   "cell_type": "code",
   "execution_count": 243,
   "metadata": {},
   "outputs": [
    {
     "name": "stdout",
     "output_type": "stream",
     "text": [
      "                 Generalized Linear Model Regression Results                  \n",
      "==============================================================================\n",
      "Dep. Variable:                HIGH_BP   No. Observations:                 1394\n",
      "Model:                            GLM   Df Residuals:                     1387\n",
      "Model Family:                Binomial   Df Model:                            6\n",
      "Link Function:                  logit   Scale:                          1.0000\n",
      "Method:                          IRLS   Log-Likelihood:                -845.51\n",
      "Date:                Wed, 22 Jul 2020   Deviance:                       1691.0\n",
      "Time:                        22:04:22   Pearson chi2:                 1.39e+03\n",
      "No. Iterations:                     4                                         \n",
      "Covariance Type:            nonrobust                                         \n",
      "====================================================================================\n",
      "                       coef    std err          z      P>|z|      [0.025      0.975]\n",
      "------------------------------------------------------------------------------------\n",
      "Intercept            0.8079      0.084      9.569      0.000       0.642       0.973\n",
      "SEX[T.male]         -0.1983      0.121     -1.632      0.103      -0.436       0.040\n",
      "sFRW                 1.0196      0.180      5.670      0.000       0.667       1.372\n",
      "SEX[T.male]:sFRW     0.3754      0.289      1.297      0.195      -0.192       0.943\n",
      "sAGE                 0.6008      0.173      3.466      0.001       0.261       0.941\n",
      "SEX[T.male]:sAGE    -0.5727      0.239     -2.392      0.017      -1.042      -0.103\n",
      "sAGE:sFRW           -0.7588      0.276     -2.750      0.006      -1.300      -0.218\n",
      "====================================================================================\n",
      "0.3278335724533716\n"
     ]
    },
    {
     "data": {
      "text/plain": [
       "Intercept           0.807929\n",
       "SEX[T.male]        -0.198273\n",
       "sFRW                1.019648\n",
       "SEX[T.male]:sFRW    0.375389\n",
       "sAGE                0.600800\n",
       "SEX[T.male]:sAGE   -0.572700\n",
       "sAGE:sFRW          -0.758808\n",
       "dtype: float64"
      ]
     },
     "execution_count": 243,
     "metadata": {},
     "output_type": "execute_result"
    }
   ],
   "source": [
    "# exercise 10\n",
    "# Put your solution here!\n",
    "fit = smf.glm(formula=\"HIGH_BP ~ sFRW + SEX + sAGE + SEX:sFRW + sAGE:sFRW + SEX:sAGE\", data=fram,family=sm.families.Binomial()).fit()\n",
    "print(fit.summary())\n",
    "\n",
    "error_rate = np.mean( ((fit.fittedvalues < 0.5) & fram.HIGH_BP) | ((fit.fittedvalues > 0.5) & ~fram.HIGH_BP) )\n",
    "print(error_rate)\n",
    "fit.params"
   ]
  },
  {
   "cell_type": "markdown",
   "metadata": {},
   "source": [
    "Visualize the predicted probability of high blood pressure as the function of weight. Remember to use normalized values (`rescale`) also for those variables that are not included in the visualization, so that sensible values are used for them (data average). Draw two figures with altogether six curves: young, middle aged, and old women; and young, middle aged, and old men. Use `plt.subplots`. (Plotting works in similar fashion as in the introduction. The argument factors need, however, be changed as in the example about visualisation of continuous variable.) "
   ]
  },
  {
   "cell_type": "code",
   "execution_count": 247,
   "metadata": {},
   "outputs": [
    {
     "data": {
      "image/png": "[encoded data removed]",
      "text/plain": [
       "<Figure size 1008x288 with 2 Axes>"
      ]
     },
     "metadata": {
      "needs_background": "light"
     },
     "output_type": "display_data"
    }
   ],
   "source": [
    "# exercise 11\n",
    "def logistic(x):\n",
    "    return 1.0 / (1.0 + np.exp(-x))\n",
    "\n",
    "# Put your solution here!\n",
    "p = fit.params\n",
    "\n",
    "fig, ax = plt.subplots(1,2, subplot_kw={\"xlabel\": \"sFRW\", \"ylabel\": \"HIGH_BP\"},figsize=(14, 4))\n",
    "\n",
    "ax[0].scatter(fram.sFRW[(fram.SEX==\"female\")], fram.HIGH_BP[(fram.SEX==\"female\")], marker=\"d\")\n",
    "X=np.linspace(-2, 4, 100)\n",
    "ax[0].plot(X, logistic(X*(p.sFRW - p['sAGE:sFRW']) + p.Intercept-p['sAGE']), color=\"blue\", label=\"yound women\")\n",
    "ax[0].plot(X, logistic(X*p.sFRW + p.Intercept), color=\"magenta\", label=\"middle aged women\")\n",
    "ax[0].plot(X, logistic(X* (p.sFRW + p['sAGE:sFRW']) + p.Intercept+p['sAGE']), color=\"red\", label=\"old women\")\n",
    "ax[0].set_title(\"female\")\n",
    "ax[0].legend();\n",
    "\n",
    "ax[1].scatter(fram.sFRW[(fram.SEX==\"male\")], fram.HIGH_BP[(fram.SEX==\"male\")], marker=\"d\")\n",
    "X=np.linspace(-2, 4, 100)\n",
    "ax[1].plot(X, logistic(X*(p.sFRW + p[\"SEX[T.male]:sFRW\"] -p['sAGE:sFRW']) + p[\"SEX[T.male]\"] + p.Intercept - p['SEX[T.male]:sAGE']), color=\"blue\", label=\"yound men\")\n",
    "ax[1].plot(X, logistic(X*(p.sFRW + p[\"SEX[T.male]:sFRW\"]) + p[\"SEX[T.male]\"] + p.Intercept), color=\"magenta\", label=\"middle aged men\")\n",
    "ax[1].plot(X, logistic(X*(p.sFRW + p[\"SEX[T.male]:sFRW\"] +p['sAGE:sFRW']) + p[\"SEX[T.male]\"] + p.Intercept + p['SEX[T.male]:sAGE']), color=\"red\", label=\"old men\")\n",
    "ax[1].set_title(\"male\")\n",
    "ax[1].legend();\n",
    "\n",
    "#plt.plot(X, logistic(X*(p.sFRW + p[\"SEX[T.male]:sFRW\"]) + p[\"SEX[T.male]\"] + p.Intercept), color=\"blue\", label=\"male\")\n",
    "#plt.legend();\n"
   ]
  },
  {
   "cell_type": "markdown",
   "metadata": {},
   "source": [
    "How do the models with different ages and genders differ from each other?\n",
    "\n",
    "***\n",
    "Your solution here.\n",
    "***"
   ]
  },
  {
   "cell_type": "markdown",
   "metadata": {},
   "source": [
    "Create here a helper function `train_test_split` that gets a DataFrame as parameter and return a pair of DataFrames: one for training and the second for testing. \n",
    "The function should get parameters in the following way:\n",
    "```python\n",
    "train_test_split(df, train_fraction=0.8)\n",
    "```\n",
    "The data should be split randomly to training and testing DataFrames so that `train_fraction` fraction of data should go into the training set. Use the `sample` method of the DataFrame."
   ]
  },
  {
   "cell_type": "code",
   "execution_count": 158,
   "metadata": {},
   "outputs": [],
   "source": [
    "# exercise 12\n",
    "# Put your solution here!\n",
    "def train_test_split(df, train_fraction=0.8):\n",
    "    train=df.sample(frac=train_fraction)\n",
    "    test=df.drop(train.index)\n",
    "    return train, test"
   ]
  },
  {
   "cell_type": "code",
   "execution_count": 159,
   "metadata": {},
   "outputs": [
    {
     "data": {
      "text/plain": [
       "((8, 10), (2, 10))"
      ]
     },
     "execution_count": 159,
     "metadata": {},
     "output_type": "execute_result"
    }
   ],
   "source": [
    "orig = pd.DataFrame(np.random.randn(10,10))\n",
    "x = train_test_split(orig, train_fraction=0.8)\n",
    "x[0].shape, x[1].shape"
   ]
  },
  {
   "cell_type": "markdown",
   "metadata": {},
   "source": [
    "Check the prediction accuracy of your model using cross validation. Use 100-fold cross validation and training_fraction 0.8."
   ]
  },
  {
   "cell_type": "code",
   "execution_count": 147,
   "metadata": {},
   "outputs": [
    {
     "name": "stdout",
     "output_type": "stream",
     "text": [
      "1115 279\n",
      "                 Generalized Linear Model Regression Results                  \n",
      "==============================================================================\n",
      "Dep. Variable:                HIGH_BP   No. Observations:                 1115\n",
      "Model:                            GLM   Df Residuals:                     1111\n",
      "Model Family:                Binomial   Df Model:                            3\n",
      "Link Function:                  logit   Scale:                          1.0000\n",
      "Method:                          IRLS   Log-Likelihood:                -689.76\n",
      "Date:                Wed, 22 Jul 2020   Deviance:                       1379.5\n",
      "Time:                        17:13:31   Pearson chi2:                 1.11e+03\n",
      "No. Iterations:                     4                                         \n",
      "Covariance Type:            nonrobust                                         \n",
      "====================================================================================\n",
      "                       coef    std err          z      P>|z|      [0.025      0.975]\n",
      "------------------------------------------------------------------------------------\n",
      "Intercept            0.8008      0.092      8.752      0.000       0.621       0.980\n",
      "SEX[T.male]         -0.2329      0.134     -1.743      0.081      -0.495       0.029\n",
      "sFRW                 0.9641      0.197      4.895      0.000       0.578       1.350\n",
      "SEX[T.male]:sFRW     0.1760      0.315      0.558      0.577      -0.442       0.794\n",
      "====================================================================================\n",
      "0.35125448028673834 0.36200716845878134\n"
     ]
    }
   ],
   "source": [
    "np.random.seed(1)\n",
    "train_test_split(fram, train_fraction=0.8)\n",
    "print(len(train), len(test))\n",
    "\n",
    "fit = smf.glm(formula=\"HIGH_BP ~ sFRW + SEX + SEX:sFRW\", data=train,family=sm.families.Binomial()).fit()\n",
    "print(fit.summary())\n",
    "pred = fit.predict(test, transform=True)\n",
    "#print(pred.describe())\n",
    "#print(\"Min:\", pred.min())\n",
    "#print(\"Max:\", pred.max())\n",
    "error_rate = np.mean(((pred < 0.5) & (test.HIGH_BP==1)) | ((pred > 0.5) & (test.HIGH_BP==0)))\n",
    "print(error_rate, 1 - test.HIGH_BP.mean())"
   ]
  },
  {
   "cell_type": "code",
   "execution_count": 157,
   "metadata": {},
   "outputs": [
    {
     "name": "stdout",
     "output_type": "stream",
     "text": [
      "0.3311827956989247\n"
     ]
    },
    {
     "data": {
      "text/plain": [
       "(0.3311827956989248,\n",
       " 0.3870967741935484,\n",
       " 0.27956989247311825,\n",
       " 0.3488530465949821)"
      ]
     },
     "execution_count": 157,
     "metadata": {},
     "output_type": "execute_result"
    }
   ],
   "source": [
    "# exercise 13\n",
    "# Put your solution here!\n",
    "error_model=[]\n",
    "error_null=[]\n",
    "np.random.seed(1)\n",
    "for i in range(100):\n",
    "    train, test = train_test_split(fram)\n",
    "    fit = smf.glm(formula=\"HIGH_BP ~ sFRW + SEX + sAGE + SEX:sFRW + sAGE:sFRW + SEX:sAGE\", data=train,family=sm.families.Binomial()).fit()\n",
    "    pred = fit.predict(test, transform=True)\n",
    "    error_rate = np.mean(((pred < 0.5) & (test.HIGH_BP==1)) | ((pred > 0.5) & (test.HIGH_BP==0)))\n",
    "    error_model.append(error_rate)\n",
    "    error_null.append((1 - test.HIGH_BP).mean())\n",
    "\n",
    "print(np.mean(error_model))\n",
    "pd.Series(error_model).mean(), pd.Series(error_model).max(), pd.Series(error_model).min(), pd.Series(error_null).mean() "
   ]
  },
  {
   "cell_type": "markdown",
   "metadata": {},
   "source": [
    "## Predicting coronary heart disease\n",
    "\n",
    "Let us use again the same data to learn a model for the occurrence of coronary heart disease. We will use logistic regression to predict whether a patient *sometimes* shows symptoms of coronary heart disease. For this, add to the data a binary variable `hasCHD`, that describes the event (`CHD > 0`). The binary variable `hadCHD` can get only two values: 0 or 1. As a sanity check, compute the mean of this variable, which tells the number of positive cases."
   ]
  },
  {
   "cell_type": "code",
   "execution_count": 5,
   "metadata": {},
   "outputs": [
    {
     "name": "stdout",
     "output_type": "stream",
     "text": [
      "0    1087\n",
      "1     307\n",
      "Name: hasCHD, dtype: int64\n",
      "0.22022955523672882\n"
     ]
    }
   ],
   "source": [
    "# exercise 14\n",
    "# Put your solution here!\n",
    "fram[\"hasCHD\"] = (fram.CHD > 0) \n",
    "fram.hasCHD = fram.hasCHD.map(int)\n",
    "fram.hasCHD.head()\n",
    "\n",
    "print(fram.hasCHD.value_counts())\n",
    "print(fram.hasCHD.mean())"
   ]
  },
  {
   "cell_type": "markdown",
   "metadata": {},
   "source": [
    "Next, form a logistic regression model for variable `hasCHD` by using variables sCHOL, sCIG, and sFRW, and their interactions as explanatory variables. Store the fitted model to variable `fit`. Compute the prediction accuracy of the model, store it to variable `error_rate`."
   ]
  },
  {
   "cell_type": "code",
   "execution_count": 6,
   "metadata": {},
   "outputs": [
    {
     "name": "stdout",
     "output_type": "stream",
     "text": [
      "                 Generalized Linear Model Regression Results                  \n",
      "==============================================================================\n",
      "Dep. Variable:                 hasCHD   No. Observations:                 1394\n",
      "Model:                            GLM   Df Residuals:                     1387\n",
      "Model Family:                Binomial   Df Model:                            6\n",
      "Link Function:                  logit   Scale:                          1.0000\n",
      "Method:                          IRLS   Log-Likelihood:                -721.19\n",
      "Date:                Thu, 23 Jul 2020   Deviance:                       1442.4\n",
      "Time:                        08:34:28   Pearson chi2:                 1.39e+03\n",
      "No. Iterations:                     4                                         \n",
      "Covariance Type:            nonrobust                                         \n",
      "==============================================================================\n",
      "                 coef    std err          z      P>|z|      [0.025      0.975]\n",
      "------------------------------------------------------------------------------\n",
      "Intercept     -1.2888      0.067    -19.101      0.000      -1.421      -1.157\n",
      "sCHOL          0.3324      0.130      2.554      0.011       0.077       0.587\n",
      "sCIG           0.4613      0.126      3.666      0.000       0.215       0.708\n",
      "sFRW           0.4404      0.130      3.386      0.001       0.185       0.695\n",
      "sCHOL:sCIG    -0.1022      0.273     -0.374      0.708      -0.637       0.433\n",
      "sCHOL:sFRW     0.1359      0.239      0.568      0.570      -0.333       0.604\n",
      "sCIG:sFRW      0.1646      0.258      0.637      0.524      -0.342       0.671\n",
      "==============================================================================\n",
      "0.22022955523672882\n"
     ]
    }
   ],
   "source": [
    "# exercise 15\n",
    "# Put your solution here!\n",
    "def logistic(x):\n",
    "    return 1.0 / (1.0 + np.exp(-x))\n",
    "fit = smf.glm(formula=\"hasCHD ~ sCHOL + sCIG + sFRW + sCHOL:sCIG + sCHOL:sFRW + sCIG:sFRW\", data=fram,family=sm.families.Binomial()).fit()\n",
    "print(fit.summary())\n",
    "p = fit.params\n",
    "error_rate = np.mean( ((fit.fittedvalues < 0.5) & fram.hasCHD) | ((fit.fittedvalues > 0.5) & ~fram.hasCHD) )\n",
    "print(error_rate)\n"
   ]
  },
  {
   "cell_type": "markdown",
   "metadata": {},
   "source": [
    "Visualize the model by using the most important explanator on the x axis. Visualize both the points (with `plt.scatter`)\n",
    "and the logistic curve (with `plt.plot`)."
   ]
  },
  {
   "cell_type": "code",
   "execution_count": 7,
   "metadata": {},
   "outputs": [
    {
     "data": {
      "image/png": "[encoded data removed]",
      "text/plain": [
       "<Figure size 432x288 with 1 Axes>"
      ]
     },
     "metadata": {
      "needs_background": "light"
     },
     "output_type": "display_data"
    }
   ],
   "source": [
    "# exercise 16\n",
    "# Put your solution here!\n",
    "\n",
    "def logistic(x):\n",
    "    return 1.0 / (1.0 + np.exp(-x))\n",
    "\n",
    "X = np.linspace(-1, 3, 100)\n",
    "plt.scatter(fram.sCIG, fram.hasCHD, marker ='d')\n",
    "#plt.plot(X, logistic(X*(p['sCIG'] + p['sCHOL:sCIG']) + p['sCHOL'] + p['sFRW'] + p['sCHOL:sFRW'] + p.Intercept), color=\"red\", label=\"???\")\n",
    "plt.plot(X, logistic(X*(p['sCIG'] ) + p.Intercept), color=\"blue\", label='?')\n",
    "\n",
    "plt.xlabel(\"Smoking per day\")\n",
    "plt.ylabel(\"Pr(Has coronary heart disease)\")\n",
    "plt.legend();\n",
    "\n"
   ]
  },
  {
   "cell_type": "markdown",
   "metadata": {},
   "source": [
    "Is the prediction accuracy of the model good or bad? Can we expect to have practical use of the model?\n",
    "***\n",
    "Your solution here.\n",
    "***"
   ]
  },
  {
   "cell_type": "markdown",
   "metadata": {},
   "source": [
    "If a person has cholestherol 200, smokes 17 cigarets per day, and has weight 100, then what is the probability that he/she sometimes shows signs of coronal hear disease? Note that the model expects normalized values. Store the normalized values to dictionary called `point`. Store the probability in variable `predicted`."
   ]
  },
  {
   "cell_type": "code",
   "execution_count": 28,
   "metadata": {},
   "outputs": [
    {
     "data": {
      "text/plain": [
       "0.21616166025041014"
      ]
     },
     "execution_count": 28,
     "metadata": {},
     "output_type": "execute_result"
    }
   ],
   "source": [
    "# exercise 17\n",
    "# Put your solution here!\n",
    "chol = (200 - fram.CHOL.mean())/(2*fram.CHOL.std())\n",
    "weight = (100 - fram.FRW.mean())/(2*fram.FRW.std())\n",
    "smoke = (17 - fram.CIG.mean())/(2*fram.CIG.std())\n",
    "\n",
    "point = {'sCHOL':chol, 'sFRW':weight, 'sCIG':smoke }\n",
    "\n",
    "prediction = fit.predict(pd.DataFrame([list(point.values())], columns = ['sCHOL','sFRW', 'sCIG']))\n",
    "predicted = prediction.values[0]\n",
    "predicted\n",
    "\n",
    "#data = {\"x1\" : x1, \"y\" : y}\n",
    "#res = ols(\"y ~ x1 + np.sin(x1) + I((x1-5)**2)\", data=data).fit()\n",
    "#res.predict(exog=dict(x1=x1n))\n",
    "#x = fram.CHOL == 200\n",
    "#x[x == True].index[0]\n",
    "#http://www.science.smith.edu/~jcrouser/SDS293/labs/lab4-py.html"
   ]
  },
  {
   "cell_type": "code",
   "execution_count": null,
   "metadata": {},
   "outputs": [],
   "source": []
  }
 ],
 "metadata": {
  "kernelspec": {
   "display_name": "Python 3",
   "language": "python",
   "name": "python3"
  },
  "language_info": {
   "codemirror_mode": {
    "name": "ipython",
    "version": 3
   },
   "file_extension": ".py",
   "mimetype": "text/x-python",
   "name": "python",
   "nbconvert_exporter": "python",
   "pygments_lexer": "ipython3",
   "version": "3.7.3"
  }
 },
 "nbformat": 4,
 "nbformat_minor": 2
}
